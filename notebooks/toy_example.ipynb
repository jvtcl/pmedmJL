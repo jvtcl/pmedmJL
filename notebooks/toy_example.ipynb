{
 "cells": [
  {
   "cell_type": "code",
   "execution_count": 1,
   "metadata": {},
   "outputs": [],
   "source": [
    "cd(\"../\")"
   ]
  },
  {
   "cell_type": "code",
   "execution_count": 2,
   "metadata": {},
   "outputs": [],
   "source": [
    "using CSV\n",
    "using DataFrames\n",
    "using LinearAlgebra\n",
    "using Statistics\n",
    "using Optim\n",
    "using Distributions\n",
    "using Random"
   ]
  },
  {
   "cell_type": "markdown",
   "metadata": {},
   "source": [
    "## P-MEDM Problem and Data\n",
    "\n",
    "- Census microdata (PUMS) with $n$ = 15 respondents, $N$ = 1286 people.\n",
    "- Public-Use Microdata Area (PUMA) consisting of 10 block groups.\n",
    "- **PROBLEM**: PUMS provides no information on the block groups in which each \"person\" (sample weight unit) in the PUMS resides. \n",
    "\n",
    "**Solution: Iterative Proportional Fitting (IPF).** Use census data published for two spatial scales, the target units (block groups) and an upper level (tracts), known as _constraints_ to make a \"guess\" at where people described by each response type belong. This is done by comparing the published constraints to synthetic constraints reconstructed from each \"guess\" at the probabilities of people's locations given by P-MEDM. The synthetic constraints are updated iteratively until a \"best guess\" is reached. \n",
    "\n",
    "But...**another problem!** Our census data comes from the American Community Survey (ACS). ACS data is updated annually but is inherently uncertain because it is based on a sample vs. a complete count of the population (i.e., the Decennial Census). \n",
    "\n",
    "**Penalized Maximum-Entropy Dasymetric Modeling (P-MEDM)** is an IPF technique specialized to deal with uncertain census data like the ACS (Leyk et al xx; Nagle et al 2014). Besides taking errors between the published and synthetic constraints into account, P-MEDM also accounts for _error variances_. The more \"in the ballpark\" of the published constraints and their variances the synthetic constraints are, the better the solution. Conversely, if a synthetic constraint is out of the range of probable values (i.e., 90% margin of error) of a published constraint, the more _penalized_ the solution will be.  "
   ]
  },
  {
   "cell_type": "code",
   "execution_count": 3,
   "metadata": {},
   "outputs": [],
   "source": [
    "## read in data\n",
    "constraints_ind = CSV.read(\"data/toy_constraints_ind.csv\");\n",
    "constraints_bg = CSV.read(\"data/toy_constraints_bg.csv\");\n",
    "constraints_trt = CSV.read(\"data/toy_constraints_trt.csv\");"
   ]
  },
  {
   "cell_type": "code",
   "execution_count": 4,
   "metadata": {},
   "outputs": [
    {
     "data": {
      "text/html": [
       "<table class=\"data-frame\"><thead><tr><th></th><th>bg</th><th>trt</th></tr><tr><th></th><th>String</th><th>String</th></tr></thead><tbody><p>10 rows × 2 columns</p><tr><th>1</th><td>101</td><td>10</td></tr><tr><th>2</th><td>102</td><td>10</td></tr><tr><th>3</th><td>103</td><td>10</td></tr><tr><th>4</th><td>201</td><td>20</td></tr><tr><th>5</th><td>202</td><td>20</td></tr><tr><th>6</th><td>301</td><td>30</td></tr><tr><th>7</th><td>302</td><td>30</td></tr><tr><th>8</th><td>303</td><td>30</td></tr><tr><th>9</th><td>304</td><td>30</td></tr><tr><th>10</th><td>305</td><td>30</td></tr></tbody></table>"
      ],
      "text/latex": [
       "\\begin{tabular}{r|cc}\n",
       "\t& bg & trt\\\\\n",
       "\t\\hline\n",
       "\t& String & String\\\\\n",
       "\t\\hline\n",
       "\t1 & 101 & 10 \\\\\n",
       "\t2 & 102 & 10 \\\\\n",
       "\t3 & 103 & 10 \\\\\n",
       "\t4 & 201 & 20 \\\\\n",
       "\t5 & 202 & 20 \\\\\n",
       "\t6 & 301 & 30 \\\\\n",
       "\t7 & 302 & 30 \\\\\n",
       "\t8 & 303 & 30 \\\\\n",
       "\t9 & 304 & 30 \\\\\n",
       "\t10 & 305 & 30 \\\\\n",
       "\\end{tabular}\n"
      ],
      "text/plain": [
       "10×2 DataFrame\n",
       "│ Row │ bg     │ trt    │\n",
       "│     │ \u001b[90mString\u001b[39m │ \u001b[90mString\u001b[39m │\n",
       "├─────┼────────┼────────┤\n",
       "│ 1   │ 101    │ 10     │\n",
       "│ 2   │ 102    │ 10     │\n",
       "│ 3   │ 103    │ 10     │\n",
       "│ 4   │ 201    │ 20     │\n",
       "│ 5   │ 202    │ 20     │\n",
       "│ 6   │ 301    │ 30     │\n",
       "│ 7   │ 302    │ 30     │\n",
       "│ 8   │ 303    │ 30     │\n",
       "│ 9   │ 304    │ 30     │\n",
       "│ 10  │ 305    │ 30     │"
      ]
     },
     "execution_count": 4,
     "metadata": {},
     "output_type": "execute_result"
    }
   ],
   "source": [
    "## build geo lookup\n",
    "bg_id = string.(collect(constraints_bg[!,1]));\n",
    "trt_id = [s[1:2] for s in bg_id];\n",
    "geo_lookup = DataFrame(bg = bg_id, trt = trt_id)"
   ]
  },
  {
   "cell_type": "markdown",
   "metadata": {},
   "source": [
    "## Setup"
   ]
  },
  {
   "cell_type": "code",
   "execution_count": 5,
   "metadata": {},
   "outputs": [],
   "source": [
    "## PUMS response ids\n",
    "# serial = collect(constraints_ind.SERIAL);\n",
    "serial = [lpad(string(i), 2, '0') for i in 1:nrow(constraints_ind)]  \n",
    "serial = \"p\" .* serial;"
   ]
  },
  {
   "cell_type": "code",
   "execution_count": 6,
   "metadata": {},
   "outputs": [],
   "source": [
    "## PUMS sample weights\n",
    "wt = collect(constraints_ind.PERWT);"
   ]
  },
  {
   "cell_type": "code",
   "execution_count": 7,
   "metadata": {},
   "outputs": [],
   "source": [
    "## population and sample size\n",
    "N = sum(constraints_bg.POP);\n",
    "n = nrow(constraints_ind);"
   ]
  },
  {
   "cell_type": "code",
   "execution_count": 8,
   "metadata": {},
   "outputs": [],
   "source": [
    "## Individual-level (PUMS) constraints\n",
    "excl = [\"SERIAL\", \"PERWT\"];\n",
    "constraint_cols = [i ∉ excl for i in names(constraints_ind)];\n",
    "pX = constraints_ind[!,constraint_cols];\n",
    "pX = convert(Matrix, pX);"
   ]
  },
  {
   "cell_type": "code",
   "execution_count": 9,
   "metadata": {},
   "outputs": [],
   "source": [
    "## geographic constraints\n",
    "est_cols_bg = [!endswith(i, 's') && i != \"GEOID\" for i in names(constraints_bg)]\n",
    "est_cols_trt = [!endswith(i, 's') && i != \"GEOID\" for i in names(constraints_trt)]\n",
    "Y1 = convert(Matrix, constraints_trt[!,est_cols_trt])\n",
    "Y2 = convert(Matrix, constraints_bg[!,est_cols_bg]);"
   ]
  },
  {
   "cell_type": "code",
   "execution_count": 10,
   "metadata": {},
   "outputs": [],
   "source": [
    "## error variances\n",
    "se_cols = [endswith(i, 's') for i in names(constraints_bg)];\n",
    "se_cols = names(constraints_bg)[se_cols];\n",
    "V1 = map(x -> x^2, convert(Matrix, constraints_trt[!,se_cols]));\n",
    "V2 = map(x -> x^2, convert(Matrix, constraints_bg[!,se_cols]));"
   ]
  },
  {
   "cell_type": "code",
   "execution_count": 11,
   "metadata": {},
   "outputs": [
    {
     "data": {
      "text/plain": [
       "3×10 Transpose{Any,Array{Any,2}}:\n",
       " 1  1  1  0  0  0  0  0  0  0\n",
       " 0  0  0  1  1  0  0  0  0  0\n",
       " 0  0  0  0  0  1  1  1  1  1"
      ]
     },
     "execution_count": 11,
     "metadata": {},
     "output_type": "execute_result"
    }
   ],
   "source": [
    "## Geographic crosswalk\n",
    "A1 = [];\n",
    "\n",
    "for G in unique(geo_lookup.trt)\n",
    "\n",
    "    blah = zeros(Int8, 1, nrow(constraints_bg))\n",
    "\n",
    "    isG = [occursin(G, g) for g in collect(geo_lookup.bg)]\n",
    "    for i in findall(isG)\n",
    "        blah[i] = 1\n",
    "    end\n",
    "    append!(A1, blah)\n",
    "\n",
    "end\n",
    "\n",
    "A1 = reshape(A1, nrow(constraints_bg), nrow(constraints_trt));\n",
    "A1 = transpose(A1)"
   ]
  },
  {
   "cell_type": "code",
   "execution_count": 12,
   "metadata": {},
   "outputs": [
    {
     "data": {
      "text/plain": [
       "10×10 Array{Bool,2}:\n",
       " 1  0  0  0  0  0  0  0  0  0\n",
       " 0  1  0  0  0  0  0  0  0  0\n",
       " 0  0  1  0  0  0  0  0  0  0\n",
       " 0  0  0  1  0  0  0  0  0  0\n",
       " 0  0  0  0  1  0  0  0  0  0\n",
       " 0  0  0  0  0  1  0  0  0  0\n",
       " 0  0  0  0  0  0  1  0  0  0\n",
       " 0  0  0  0  0  0  0  1  0  0\n",
       " 0  0  0  0  0  0  0  0  1  0\n",
       " 0  0  0  0  0  0  0  0  0  1"
      ]
     },
     "execution_count": 12,
     "metadata": {},
     "output_type": "execute_result"
    }
   ],
   "source": [
    "## Target unit identity matrix\n",
    "A2 = Matrix(I, nrow(constraints_bg), nrow(constraints_bg))"
   ]
  },
  {
   "cell_type": "code",
   "execution_count": 13,
   "metadata": {},
   "outputs": [],
   "source": [
    "## Solution space (X-matrix)\n",
    "X1 = kron(transpose(pX), A1);\n",
    "X2 = kron(transpose(pX), A2);\n",
    "X = transpose(vcat(X1, X2));"
   ]
  },
  {
   "cell_type": "code",
   "execution_count": 14,
   "metadata": {},
   "outputs": [],
   "source": [
    "## Design weights\n",
    "q = repeat(wt, size(A1)[2]);\n",
    "q = reshape(q, n, size(A1)[2]);\n",
    "q = q / sum(q);\n",
    "q = vec(q');"
   ]
  },
  {
   "cell_type": "code",
   "execution_count": 15,
   "metadata": {},
   "outputs": [],
   "source": [
    "## Vectorize geo. constraints (Y) and normalize\n",
    "Y_vec = vcat(vec(Y1), vec(Y2)) / N; "
   ]
  },
  {
   "cell_type": "code",
   "execution_count": 16,
   "metadata": {},
   "outputs": [],
   "source": [
    "## Vectorize variances and normalize\n",
    "V_vec = vcat(vec(V1), vec(V2)) * (n / N^2);"
   ]
  },
  {
   "cell_type": "code",
   "execution_count": 17,
   "metadata": {},
   "outputs": [],
   "source": [
    "## Diagonal matrix of variances\n",
    "sV = Diagonal(V_vec);"
   ]
  },
  {
   "cell_type": "markdown",
   "metadata": {},
   "source": [
    "## Functions"
   ]
  },
  {
   "cell_type": "code",
   "execution_count": 18,
   "metadata": {},
   "outputs": [],
   "source": [
    "## Compute the P_MEDM probabilities from q, X, λ\n",
    "compute_allocation = function(q, X, λ)\n",
    "\n",
    "    a0 = exp.(-X * λ)\n",
    "\n",
    "    a = a0 .* q;\n",
    "\n",
    "    b = q' * a0\n",
    "\n",
    "    a/b\n",
    "\n",
    "end;"
   ]
  },
  {
   "cell_type": "code",
   "execution_count": 19,
   "metadata": {},
   "outputs": [],
   "source": [
    "## Primal Function\n",
    "penalized_entropy = function(w, d, n, N, v)\n",
    "\n",
    "    e = d - w\n",
    "\n",
    "    penalty = (e^2 / (2. * v))\n",
    "\n",
    "    ent = ((n / N) * (w / d) * log((w/d)))\n",
    "\n",
    "    pe = (-1. * ent) - penalty\n",
    "\n",
    "    return pe\n",
    "\n",
    "end;"
   ]
  },
  {
   "cell_type": "code",
   "execution_count": 20,
   "metadata": {},
   "outputs": [],
   "source": [
    "## Objective Function\n",
    "neg_pe = function(λ)\n",
    "\n",
    "    phat = compute_allocation(q, X, λ)\n",
    "    phat = reshape(phat, size(A2)[1], size(pX)[1])'\n",
    "\n",
    "    Yhat2 = (N * phat)' * pX\n",
    "\n",
    "    phat_trt = (phat * N) * A1'\n",
    "    Yhat1 = phat_trt' * pX\n",
    "\n",
    "    Yhat = vcat(vec(Yhat1), vec(Yhat2))\n",
    "\n",
    "    Ype = DataFrame(Y = Y_vec * N, Yhat = Yhat, V = V_vec * (N^2/n))\n",
    "\n",
    "    pe = penalized_entropy.(Ype.Y, Ype.Yhat, n, N, Ype.V)\n",
    "\n",
    "    -1. * mean(pe)\n",
    "\n",
    "end;"
   ]
  },
  {
   "cell_type": "markdown",
   "metadata": {},
   "source": [
    "## Optimization"
   ]
  },
  {
   "cell_type": "code",
   "execution_count": 21,
   "metadata": {},
   "outputs": [
    {
     "data": {
      "text/plain": [
       " * Status: success\n",
       "\n",
       " * Candidate solution\n",
       "    Minimizer: [5.36e-01, -3.61e-02, -5.00e-01,  ...]\n",
       "    Minimum:   -1.553683e-06\n",
       "\n",
       " * Found with\n",
       "    Algorithm:     BFGS\n",
       "    Initial Point: [0.00e+00, 0.00e+00, 0.00e+00,  ...]\n",
       "\n",
       " * Convergence measures\n",
       "    |x - x'|               = 1.48e-08 ≰ 0.0e+00\n",
       "    |x - x'|/|x'|          = 5.33e-09 ≰ 0.0e+00\n",
       "    |f(x) - f(x')|         = 1.83e-16 ≰ 0.0e+00\n",
       "    |f(x) - f(x')|/|f(x')| = 1.18e-10 ≰ 0.0e+00\n",
       "    |g(x)|                 = 5.04e-09 ≤ 1.0e-08\n",
       "\n",
       " * Work counters\n",
       "    Seconds run:   2  (vs limit Inf)\n",
       "    Iterations:    99\n",
       "    f(x) calls:    281\n",
       "    ∇f(x) calls:   281\n"
      ]
     },
     "execution_count": 21,
     "metadata": {},
     "output_type": "execute_result"
    }
   ],
   "source": [
    "opt = optimize(neg_pe, zeros(length(Y_vec)), BFGS(), autodiff = :forward,\n",
    "            Optim.Options(iterations = 200))"
   ]
  },
  {
   "cell_type": "code",
   "execution_count": 22,
   "metadata": {},
   "outputs": [],
   "source": [
    "## final coefficients (lambdas/λ)\n",
    "λ = Optim.minimizer(opt);"
   ]
  },
  {
   "cell_type": "code",
   "execution_count": 23,
   "metadata": {},
   "outputs": [
    {
     "data": {
      "text/html": [
       "<table class=\"data-frame\"><thead><tr><th></th><th>Y</th><th>Yhat</th><th>MOE_lower</th><th>MOE_upper</th></tr><tr><th></th><th>Float64</th><th>Any</th><th>Float64</th><th>Float64</th></tr></thead><tbody><p>10 rows × 4 columns</p><tr><th>1</th><td>344.0</td><td>344.0</td><td>328.481</td><td>359.519</td></tr><tr><th>2</th><td>260.0</td><td>260.0</td><td>253.021</td><td>266.979</td></tr><tr><th>3</th><td>682.0</td><td>681.999</td><td>668.237</td><td>695.763</td></tr><tr><th>4</th><td>152.0</td><td>152.01</td><td>139.152</td><td>164.848</td></tr><tr><th>5</th><td>84.0</td><td>84.0142</td><td>71.4721</td><td>96.5279</td></tr><tr><th>6</th><td>200.0</td><td>200.033</td><td>179.454</td><td>220.546</td></tr><tr><th>7</th><td>101.0</td><td>101.04</td><td>80.7191</td><td>121.281</td></tr><tr><th>8</th><td>106.0</td><td>106.041</td><td>92.435</td><td>119.565</td></tr><tr><th>9</th><td>242.0</td><td>242.035</td><td>218.39</td><td>265.61</td></tr><tr><th>10</th><td>175.0</td><td>175.017</td><td>156.608</td><td>193.392</td></tr></tbody></table>"
      ],
      "text/latex": [
       "\\begin{tabular}{r|cccc}\n",
       "\t& Y & Yhat & MOE\\_lower & MOE\\_upper\\\\\n",
       "\t\\hline\n",
       "\t& Float64 & Any & Float64 & Float64\\\\\n",
       "\t\\hline\n",
       "\t1 & 344.0 & 344.0 & 328.481 & 359.519 \\\\\n",
       "\t2 & 260.0 & 260.0 & 253.021 & 266.979 \\\\\n",
       "\t3 & 682.0 & 681.999 & 668.237 & 695.763 \\\\\n",
       "\t4 & 152.0 & 152.01 & 139.152 & 164.848 \\\\\n",
       "\t5 & 84.0 & 84.0142 & 71.4721 & 96.5279 \\\\\n",
       "\t6 & 200.0 & 200.033 & 179.454 & 220.546 \\\\\n",
       "\t7 & 101.0 & 101.04 & 80.7191 & 121.281 \\\\\n",
       "\t8 & 106.0 & 106.041 & 92.435 & 119.565 \\\\\n",
       "\t9 & 242.0 & 242.035 & 218.39 & 265.61 \\\\\n",
       "\t10 & 175.0 & 175.017 & 156.608 & 193.392 \\\\\n",
       "\\end{tabular}\n"
      ],
      "text/plain": [
       "10×4 DataFrame\n",
       "│ Row │ Y       │ Yhat    │ MOE_lower │ MOE_upper │\n",
       "│     │ \u001b[90mFloat64\u001b[39m │ \u001b[90mAny\u001b[39m     │ \u001b[90mFloat64\u001b[39m   │ \u001b[90mFloat64\u001b[39m   │\n",
       "├─────┼─────────┼─────────┼───────────┼───────────┤\n",
       "│ 1   │ 344.0   │ 344.0   │ 328.481   │ 359.519   │\n",
       "│ 2   │ 260.0   │ 260.0   │ 253.021   │ 266.979   │\n",
       "│ 3   │ 682.0   │ 681.999 │ 668.237   │ 695.763   │\n",
       "│ 4   │ 152.0   │ 152.01  │ 139.152   │ 164.848   │\n",
       "│ 5   │ 84.0    │ 84.0142 │ 71.4721   │ 96.5279   │\n",
       "│ 6   │ 200.0   │ 200.033 │ 179.454   │ 220.546   │\n",
       "│ 7   │ 101.0   │ 101.04  │ 80.7191   │ 121.281   │\n",
       "│ 8   │ 106.0   │ 106.041 │ 92.435    │ 119.565   │\n",
       "│ 9   │ 242.0   │ 242.035 │ 218.39    │ 265.61    │\n",
       "│ 10  │ 175.0   │ 175.017 │ 156.608   │ 193.392   │"
      ]
     },
     "execution_count": 23,
     "metadata": {},
     "output_type": "execute_result"
    }
   ],
   "source": [
    "## inspect results\n",
    "phat = compute_allocation(q, X, λ);\n",
    "phat = reshape(phat, size(A2)[1], size(pX)[1])';\n",
    "\n",
    "Yhat2 = (N * phat)' * pX;\n",
    "\n",
    "phat_trt = (phat * N) * A1';\n",
    "Yhat1 = phat_trt' * pX;\n",
    "\n",
    "Yhat = vcat(vec(Yhat1), vec(Yhat2));\n",
    "\n",
    "Ype = DataFrame(Y = Y_vec * N, Yhat = Yhat, V = V_vec * (N^2/n));\n",
    "\n",
    "#90% MOEs\n",
    "Ype.MOE_lower = Ype.Y - (sqrt.(Ype.V) * 1.645);\n",
    "Ype.MOE_upper = Ype.Y + (sqrt.(Ype.V) * 1.645);\n",
    "\n",
    "first(Ype[:,[\"Y\", \"Yhat\", \"MOE_lower\", \"MOE_upper\"]], 10)"
   ]
  },
  {
   "cell_type": "code",
   "execution_count": 24,
   "metadata": {},
   "outputs": [
    {
     "data": {
      "text/plain": [
       "0.0"
      ]
     },
     "execution_count": 24,
     "metadata": {},
     "output_type": "execute_result"
    }
   ],
   "source": [
    "# Proportion of contstraints falling outside 90% MOE\n",
    "sum((Ype.Yhat .< Ype.MOE_lower) + (Ype.Yhat .> Ype.MOE_upper) .>= 1) / nrow(Ype)"
   ]
  },
  {
   "cell_type": "markdown",
   "metadata": {},
   "source": [
    "## Synthetic Population Estimates"
   ]
  },
  {
   "cell_type": "markdown",
   "metadata": {},
   "source": [
    "The target-level (block group) estimates of each group are simply"
   ]
  },
  {
   "cell_type": "code",
   "execution_count": 25,
   "metadata": {},
   "outputs": [
    {
     "data": {
      "text/html": [
       "<table class=\"data-frame\"><thead><tr><th></th><th>pid</th><th>101</th><th>102</th><th>103</th><th>201</th><th>202</th><th>301</th><th>302</th><th>303</th></tr><tr><th></th><th>Any</th><th>Any</th><th>Any</th><th>Any</th><th>Any</th><th>Any</th><th>Any</th><th>Any</th><th>Any</th></tr></thead><tbody><p>15 rows × 11 columns (omitted printing of 2 columns)</p><tr><th>1</th><td>p01</td><td>7.37573</td><td>1.93002</td><td>0.0658886</td><td>3.59323</td><td>1.1941</td><td>4.04046</td><td>1.00221</td><td>1.18257</td></tr><tr><th>2</th><td>p02</td><td>3.01273</td><td>11.0193</td><td>5.87868</td><td>8.11077</td><td>5.46935</td><td>8.44493</td><td>11.5618</td><td>4.8976</td></tr><tr><th>3</th><td>p03</td><td>4.44526</td><td>3.51247</td><td>4.36986</td><td>2.91984</td><td>11.771</td><td>5.35233</td><td>1.9038</td><td>1.45184</td></tr><tr><th>4</th><td>p04</td><td>1.92281</td><td>1.24944</td><td>14.785</td><td>0.918948</td><td>25.1528</td><td>6.47892</td><td>12.7274</td><td>19.25</td></tr><tr><th>5</th><td>p05</td><td>0.738304</td><td>9.91572</td><td>20.2678</td><td>3.68321</td><td>4.43771</td><td>1.62544</td><td>0.577827</td><td>0.0797601</td></tr><tr><th>6</th><td>p06</td><td>9.1724</td><td>1.9738</td><td>0.640916</td><td>3.25129</td><td>7.33586</td><td>14.0614</td><td>19.2625</td><td>45.0792</td></tr><tr><th>7</th><td>p07</td><td>47.3276</td><td>12.3843</td><td>0.422785</td><td>23.0566</td><td>7.66215</td><td>25.9263</td><td>6.43083</td><td>7.58815</td></tr><tr><th>8</th><td>p08</td><td>2.11594</td><td>9.41098</td><td>0.52785</td><td>7.82914</td><td>0.777584</td><td>2.11944</td><td>0.525404</td><td>0.112216</td></tr><tr><th>9</th><td>p09</td><td>0.935844</td><td>0.739467</td><td>0.91997</td><td>0.614703</td><td>2.47811</td><td>1.12681</td><td>0.400801</td><td>0.30565</td></tr><tr><th>10</th><td>p10</td><td>1.2343</td><td>5.48974</td><td>0.307913</td><td>4.567</td><td>0.453591</td><td>1.23634</td><td>0.306486</td><td>0.0654595</td></tr><tr><th>11</th><td>p11</td><td>13.8295</td><td>3.61879</td><td>0.123541</td><td>6.73731</td><td>2.23894</td><td>7.57586</td><td>1.87914</td><td>2.21732</td></tr><tr><th>12</th><td>p12</td><td>6.82631</td><td>24.9677</td><td>13.3201</td><td>18.3776</td><td>12.3926</td><td>19.1347</td><td>26.1971</td><td>11.0971</td></tr><tr><th>13</th><td>p13</td><td>3.98731</td><td>2.59094</td><td>30.6594</td><td>1.90561</td><td>52.1589</td><td>13.4352</td><td>26.3926</td><td>39.9183</td></tr><tr><th>14</th><td>p14</td><td>2.17374</td><td>7.95062</td><td>4.24158</td><td>5.85208</td><td>3.94624</td><td>6.09318</td><td>8.34209</td><td>3.53371</td></tr><tr><th>15</th><td>p15</td><td>6.90258</td><td>25.2467</td><td>13.4689</td><td>18.5829</td><td>12.531</td><td>19.3485</td><td>26.4898</td><td>11.2211</td></tr></tbody></table>"
      ],
      "text/latex": [
       "\\begin{tabular}{r|cccccccccc}\n",
       "\t& pid & 101 & 102 & 103 & 201 & 202 & 301 & 302 & 303 & \\\\\n",
       "\t\\hline\n",
       "\t& Any & Any & Any & Any & Any & Any & Any & Any & Any & \\\\\n",
       "\t\\hline\n",
       "\t1 & p01 & 7.37573 & 1.93002 & 0.0658886 & 3.59323 & 1.1941 & 4.04046 & 1.00221 & 1.18257 & $\\dots$ \\\\\n",
       "\t2 & p02 & 3.01273 & 11.0193 & 5.87868 & 8.11077 & 5.46935 & 8.44493 & 11.5618 & 4.8976 & $\\dots$ \\\\\n",
       "\t3 & p03 & 4.44526 & 3.51247 & 4.36986 & 2.91984 & 11.771 & 5.35233 & 1.9038 & 1.45184 & $\\dots$ \\\\\n",
       "\t4 & p04 & 1.92281 & 1.24944 & 14.785 & 0.918948 & 25.1528 & 6.47892 & 12.7274 & 19.25 & $\\dots$ \\\\\n",
       "\t5 & p05 & 0.738304 & 9.91572 & 20.2678 & 3.68321 & 4.43771 & 1.62544 & 0.577827 & 0.0797601 & $\\dots$ \\\\\n",
       "\t6 & p06 & 9.1724 & 1.9738 & 0.640916 & 3.25129 & 7.33586 & 14.0614 & 19.2625 & 45.0792 & $\\dots$ \\\\\n",
       "\t7 & p07 & 47.3276 & 12.3843 & 0.422785 & 23.0566 & 7.66215 & 25.9263 & 6.43083 & 7.58815 & $\\dots$ \\\\\n",
       "\t8 & p08 & 2.11594 & 9.41098 & 0.52785 & 7.82914 & 0.777584 & 2.11944 & 0.525404 & 0.112216 & $\\dots$ \\\\\n",
       "\t9 & p09 & 0.935844 & 0.739467 & 0.91997 & 0.614703 & 2.47811 & 1.12681 & 0.400801 & 0.30565 & $\\dots$ \\\\\n",
       "\t10 & p10 & 1.2343 & 5.48974 & 0.307913 & 4.567 & 0.453591 & 1.23634 & 0.306486 & 0.0654595 & $\\dots$ \\\\\n",
       "\t11 & p11 & 13.8295 & 3.61879 & 0.123541 & 6.73731 & 2.23894 & 7.57586 & 1.87914 & 2.21732 & $\\dots$ \\\\\n",
       "\t12 & p12 & 6.82631 & 24.9677 & 13.3201 & 18.3776 & 12.3926 & 19.1347 & 26.1971 & 11.0971 & $\\dots$ \\\\\n",
       "\t13 & p13 & 3.98731 & 2.59094 & 30.6594 & 1.90561 & 52.1589 & 13.4352 & 26.3926 & 39.9183 & $\\dots$ \\\\\n",
       "\t14 & p14 & 2.17374 & 7.95062 & 4.24158 & 5.85208 & 3.94624 & 6.09318 & 8.34209 & 3.53371 & $\\dots$ \\\\\n",
       "\t15 & p15 & 6.90258 & 25.2467 & 13.4689 & 18.5829 & 12.531 & 19.3485 & 26.4898 & 11.2211 & $\\dots$ \\\\\n",
       "\\end{tabular}\n"
      ],
      "text/plain": [
       "15×11 DataFrame. Omitted printing of 4 columns\n",
       "│ Row │ pid │ 101      │ 102      │ 103       │ 201      │ 202      │ 301     │\n",
       "│     │ \u001b[90mAny\u001b[39m │ \u001b[90mAny\u001b[39m      │ \u001b[90mAny\u001b[39m      │ \u001b[90mAny\u001b[39m       │ \u001b[90mAny\u001b[39m      │ \u001b[90mAny\u001b[39m      │ \u001b[90mAny\u001b[39m     │\n",
       "├─────┼─────┼──────────┼──────────┼───────────┼──────────┼──────────┼─────────┤\n",
       "│ 1   │ p01 │ 7.37573  │ 1.93002  │ 0.0658886 │ 3.59323  │ 1.1941   │ 4.04046 │\n",
       "│ 2   │ p02 │ 3.01273  │ 11.0193  │ 5.87868   │ 8.11077  │ 5.46935  │ 8.44493 │\n",
       "│ 3   │ p03 │ 4.44526  │ 3.51247  │ 4.36986   │ 2.91984  │ 11.771   │ 5.35233 │\n",
       "│ 4   │ p04 │ 1.92281  │ 1.24944  │ 14.785    │ 0.918948 │ 25.1528  │ 6.47892 │\n",
       "│ 5   │ p05 │ 0.738304 │ 9.91572  │ 20.2678   │ 3.68321  │ 4.43771  │ 1.62544 │\n",
       "│ 6   │ p06 │ 9.1724   │ 1.9738   │ 0.640916  │ 3.25129  │ 7.33586  │ 14.0614 │\n",
       "│ 7   │ p07 │ 47.3276  │ 12.3843  │ 0.422785  │ 23.0566  │ 7.66215  │ 25.9263 │\n",
       "│ 8   │ p08 │ 2.11594  │ 9.41098  │ 0.52785   │ 7.82914  │ 0.777584 │ 2.11944 │\n",
       "│ 9   │ p09 │ 0.935844 │ 0.739467 │ 0.91997   │ 0.614703 │ 2.47811  │ 1.12681 │\n",
       "│ 10  │ p10 │ 1.2343   │ 5.48974  │ 0.307913  │ 4.567    │ 0.453591 │ 1.23634 │\n",
       "│ 11  │ p11 │ 13.8295  │ 3.61879  │ 0.123541  │ 6.73731  │ 2.23894  │ 7.57586 │\n",
       "│ 12  │ p12 │ 6.82631  │ 24.9677  │ 13.3201   │ 18.3776  │ 12.3926  │ 19.1347 │\n",
       "│ 13  │ p13 │ 3.98731  │ 2.59094  │ 30.6594   │ 1.90561  │ 52.1589  │ 13.4352 │\n",
       "│ 14  │ p14 │ 2.17374  │ 7.95062  │ 4.24158   │ 5.85208  │ 3.94624  │ 6.09318 │\n",
       "│ 15  │ p15 │ 6.90258  │ 25.2467  │ 13.4689   │ 18.5829  │ 12.531   │ 19.3485 │"
      ]
     },
     "execution_count": 25,
     "metadata": {},
     "output_type": "execute_result"
    }
   ],
   "source": [
    "syp = DataFrame(hcat(serial, (phat * N)))\n",
    "rn = collect(geo_lookup.bg)\n",
    "rn = append!([\"pid\"], rn)\n",
    "rename!(syp, rn)"
   ]
  },
  {
   "cell_type": "markdown",
   "metadata": {},
   "source": [
    "So, for example, there are roughly 25 people matching record `p04` in block group `202`. "
   ]
  },
  {
   "cell_type": "code",
   "execution_count": 26,
   "metadata": {},
   "outputs": [
    {
     "data": {
      "text/plain": [
       "1-element Array{Any,1}:\n",
       " 25.152775934816955"
      ]
     },
     "execution_count": 26,
     "metadata": {},
     "output_type": "execute_result"
    }
   ],
   "source": [
    "syp[syp.pid .== \"p04\", \"202\"]"
   ]
  },
  {
   "cell_type": "markdown",
   "metadata": {},
   "source": [
    "### Uncertainty"
   ]
  },
  {
   "cell_type": "markdown",
   "metadata": {},
   "source": [
    "The Inverse Hessian of the solution is the variance-covariance matrix of the coefficients $\\lambda$, see https://www.rpubs.com/nnnagle/PMEDM_2."
   ]
  },
  {
   "cell_type": "code",
   "execution_count": 27,
   "metadata": {},
   "outputs": [],
   "source": [
    "# recompute the P-MEDM allocation as a vector\n",
    "p = compute_allocation(q, X, λ);"
   ]
  },
  {
   "cell_type": "code",
   "execution_count": 28,
   "metadata": {},
   "outputs": [],
   "source": [
    "## compute Inverse Hessian\n",
    "a = -1 * (X'p * p'X)\n",
    "\n",
    "dp = Diagonal(p)\n",
    "\n",
    "b = X'dp * X\n",
    "\n",
    "H = a + b + sV\n",
    "\n",
    "covλ = inv(H);"
   ]
  },
  {
   "cell_type": "code",
   "execution_count": 29,
   "metadata": {},
   "outputs": [],
   "source": [
    "## simulate λ\n",
    "Random.seed!(808)\n",
    "nsim = 100\n",
    "simλ = []\n",
    "\n",
    "mvn = MvNormal(λ, Matrix(Hermitian(covλ/N)))\n",
    "\n",
    "simλ = rand(mvn, nsim);"
   ]
  },
  {
   "cell_type": "code",
   "execution_count": 30,
   "metadata": {},
   "outputs": [],
   "source": [
    "psim = []\n",
    "\n",
    "for s in 1:nsim\n",
    "    ps = compute_allocation(q, X, simλ[:,s])\n",
    "    ps = ps * N\n",
    "    append!(psim, ps)\n",
    "end\n",
    "\n",
    "psim = reshape(psim, :, nsim);"
   ]
  },
  {
   "cell_type": "code",
   "execution_count": 31,
   "metadata": {},
   "outputs": [],
   "source": [
    "# 95% confidence interval\n",
    "ci = [quantile(psim[i,:], (0.025, 0.975)) for i in 1:size(psim)[1]]\n",
    "ci = DataFrame(ci)\n",
    "rename!(ci, [\"lower\", \"upper\"]);"
   ]
  },
  {
   "cell_type": "code",
   "execution_count": 32,
   "metadata": {},
   "outputs": [],
   "source": [
    "# melt the synthetic pop ests (wide to long format)\n",
    "# 2nd arg = melt columns, 3rd arg = id columns\n",
    "sypm = stack(syp, names(syp)[2:size(syp)[2]], :pid);\n",
    "rename!(sypm, [\"pid\", \"geoid\", \"est\"]);"
   ]
  },
  {
   "cell_type": "code",
   "execution_count": 33,
   "metadata": {},
   "outputs": [],
   "source": [
    "# ensure order matches conf ints\n",
    "sort!(sypm, [:pid]);"
   ]
  },
  {
   "cell_type": "code",
   "execution_count": 34,
   "metadata": {},
   "outputs": [],
   "source": [
    "## append the conf ints\n",
    "res_ci = hcat(sypm, ci);"
   ]
  },
  {
   "cell_type": "code",
   "execution_count": 35,
   "metadata": {},
   "outputs": [
    {
     "data": {
      "text/html": [
       "<table class=\"data-frame\"><thead><tr><th></th><th>pid</th><th>geoid</th><th>est</th><th>lower</th><th>upper</th></tr><tr><th></th><th>Any</th><th>Cat…</th><th>Any</th><th>Float64</th><th>Float64</th></tr></thead><tbody><p>5 rows × 5 columns</p><tr><th>1</th><td>p01</td><td>101</td><td>7.37573</td><td>5.72689</td><td>9.05486</td></tr><tr><th>2</th><td>p01</td><td>102</td><td>1.93002</td><td>1.32496</td><td>2.78978</td></tr><tr><th>3</th><td>p01</td><td>103</td><td>0.0658886</td><td>0.0185317</td><td>0.186569</td></tr><tr><th>4</th><td>p01</td><td>201</td><td>3.59323</td><td>2.58063</td><td>4.79514</td></tr><tr><th>5</th><td>p01</td><td>202</td><td>1.1941</td><td>0.786417</td><td>1.67478</td></tr></tbody></table>"
      ],
      "text/latex": [
       "\\begin{tabular}{r|ccccc}\n",
       "\t& pid & geoid & est & lower & upper\\\\\n",
       "\t\\hline\n",
       "\t& Any & Cat… & Any & Float64 & Float64\\\\\n",
       "\t\\hline\n",
       "\t1 & p01 & 101 & 7.37573 & 5.72689 & 9.05486 \\\\\n",
       "\t2 & p01 & 102 & 1.93002 & 1.32496 & 2.78978 \\\\\n",
       "\t3 & p01 & 103 & 0.0658886 & 0.0185317 & 0.186569 \\\\\n",
       "\t4 & p01 & 201 & 3.59323 & 2.58063 & 4.79514 \\\\\n",
       "\t5 & p01 & 202 & 1.1941 & 0.786417 & 1.67478 \\\\\n",
       "\\end{tabular}\n"
      ],
      "text/plain": [
       "5×5 DataFrame\n",
       "│ Row │ pid │ geoid │ est       │ lower     │ upper    │\n",
       "│     │ \u001b[90mAny\u001b[39m │ \u001b[90mCat…\u001b[39m  │ \u001b[90mAny\u001b[39m       │ \u001b[90mFloat64\u001b[39m   │ \u001b[90mFloat64\u001b[39m  │\n",
       "├─────┼─────┼───────┼───────────┼───────────┼──────────┤\n",
       "│ 1   │ p01 │ 101   │ 7.37573   │ 5.72689   │ 9.05486  │\n",
       "│ 2   │ p01 │ 102   │ 1.93002   │ 1.32496   │ 2.78978  │\n",
       "│ 3   │ p01 │ 103   │ 0.0658886 │ 0.0185317 │ 0.186569 │\n",
       "│ 4   │ p01 │ 201   │ 3.59323   │ 2.58063   │ 4.79514  │\n",
       "│ 5   │ p01 │ 202   │ 1.1941    │ 0.786417  │ 1.67478  │"
      ]
     },
     "execution_count": 35,
     "metadata": {},
     "output_type": "execute_result"
    }
   ],
   "source": [
    "first(res_ci, 5)"
   ]
  },
  {
   "cell_type": "markdown",
   "metadata": {},
   "source": [
    "Returning to the example above, our estimate of PUMS record `p04` in unit `202` is roughly 25 people, but it could be as low as 20 people (2.5% bound) or as high as 30 people (97.5% bound):"
   ]
  },
  {
   "cell_type": "code",
   "execution_count": 36,
   "metadata": {},
   "outputs": [
    {
     "data": {
      "text/html": [
       "<table class=\"data-frame\"><thead><tr><th></th><th>pid</th><th>geoid</th><th>est</th><th>lower</th><th>upper</th></tr><tr><th></th><th>Any</th><th>Cat…</th><th>Any</th><th>Float64</th><th>Float64</th></tr></thead><tbody><p>1 rows × 5 columns</p><tr><th>1</th><td>p04</td><td>202</td><td>25.1528</td><td>20.1342</td><td>30.438</td></tr></tbody></table>"
      ],
      "text/latex": [
       "\\begin{tabular}{r|ccccc}\n",
       "\t& pid & geoid & est & lower & upper\\\\\n",
       "\t\\hline\n",
       "\t& Any & Cat… & Any & Float64 & Float64\\\\\n",
       "\t\\hline\n",
       "\t1 & p04 & 202 & 25.1528 & 20.1342 & 30.438 \\\\\n",
       "\\end{tabular}\n"
      ],
      "text/plain": [
       "1×5 DataFrame\n",
       "│ Row │ pid │ geoid │ est     │ lower   │ upper   │\n",
       "│     │ \u001b[90mAny\u001b[39m │ \u001b[90mCat…\u001b[39m  │ \u001b[90mAny\u001b[39m     │ \u001b[90mFloat64\u001b[39m │ \u001b[90mFloat64\u001b[39m │\n",
       "├─────┼─────┼───────┼─────────┼─────────┼─────────┤\n",
       "│ 1   │ p04 │ 202   │ 25.1528 │ 20.1342 │ 30.438  │"
      ]
     },
     "execution_count": 36,
     "metadata": {},
     "output_type": "execute_result"
    }
   ],
   "source": [
    "res_ci[(res_ci.geoid .== \"202\") .& (res_ci.pid .== \"p04\"),:]"
   ]
  },
  {
   "cell_type": "markdown",
   "metadata": {},
   "source": [
    "### Reliability"
   ]
  },
  {
   "cell_type": "code",
   "execution_count": 37,
   "metadata": {},
   "outputs": [],
   "source": [
    "# Monte Carlo error\n",
    "mce = [std(psim[i,:]) for i in 1:size(psim)[1]];"
   ]
  },
  {
   "cell_type": "code",
   "execution_count": 38,
   "metadata": {},
   "outputs": [],
   "source": [
    "mcv = mce ./ (p * N);"
   ]
  },
  {
   "cell_type": "code",
   "execution_count": 39,
   "metadata": {},
   "outputs": [],
   "source": [
    "## append the CVs\n",
    "res_cv = hcat(sypm, mcv);"
   ]
  },
  {
   "cell_type": "markdown",
   "metadata": {},
   "source": [
    "There appears to be an inverse relationship between uncertainty and estimate size, as demonstrated for record `p04`:"
   ]
  },
  {
   "cell_type": "code",
   "execution_count": 40,
   "metadata": {},
   "outputs": [
    {
     "data": {
      "text/html": [
       "<table class=\"data-frame\"><thead><tr><th></th><th>pid</th><th>geoid</th><th>est</th><th>x1</th></tr><tr><th></th><th>Any</th><th>Cat…</th><th>Any</th><th>Float64</th></tr></thead><tbody><p>10 rows × 4 columns</p><tr><th>1</th><td>p04</td><td>101</td><td>1.92281</td><td>0.324842</td></tr><tr><th>2</th><td>p04</td><td>102</td><td>1.24944</td><td>0.320557</td></tr><tr><th>3</th><td>p04</td><td>103</td><td>14.785</td><td>0.146042</td></tr><tr><th>4</th><td>p04</td><td>201</td><td>0.918948</td><td>0.397393</td></tr><tr><th>5</th><td>p04</td><td>202</td><td>25.1528</td><td>0.110837</td></tr><tr><th>6</th><td>p04</td><td>301</td><td>6.47892</td><td>0.195967</td></tr><tr><th>7</th><td>p04</td><td>302</td><td>12.7274</td><td>0.166372</td></tr><tr><th>8</th><td>p04</td><td>303</td><td>19.25</td><td>0.121847</td></tr><tr><th>9</th><td>p04</td><td>304</td><td>2.53326</td><td>0.247819</td></tr><tr><th>10</th><td>p04</td><td>305</td><td>12.777</td><td>0.153487</td></tr></tbody></table>"
      ],
      "text/latex": [
       "\\begin{tabular}{r|cccc}\n",
       "\t& pid & geoid & est & x1\\\\\n",
       "\t\\hline\n",
       "\t& Any & Cat… & Any & Float64\\\\\n",
       "\t\\hline\n",
       "\t1 & p04 & 101 & 1.92281 & 0.324842 \\\\\n",
       "\t2 & p04 & 102 & 1.24944 & 0.320557 \\\\\n",
       "\t3 & p04 & 103 & 14.785 & 0.146042 \\\\\n",
       "\t4 & p04 & 201 & 0.918948 & 0.397393 \\\\\n",
       "\t5 & p04 & 202 & 25.1528 & 0.110837 \\\\\n",
       "\t6 & p04 & 301 & 6.47892 & 0.195967 \\\\\n",
       "\t7 & p04 & 302 & 12.7274 & 0.166372 \\\\\n",
       "\t8 & p04 & 303 & 19.25 & 0.121847 \\\\\n",
       "\t9 & p04 & 304 & 2.53326 & 0.247819 \\\\\n",
       "\t10 & p04 & 305 & 12.777 & 0.153487 \\\\\n",
       "\\end{tabular}\n"
      ],
      "text/plain": [
       "10×4 DataFrame\n",
       "│ Row │ pid │ geoid │ est      │ x1       │\n",
       "│     │ \u001b[90mAny\u001b[39m │ \u001b[90mCat…\u001b[39m  │ \u001b[90mAny\u001b[39m      │ \u001b[90mFloat64\u001b[39m  │\n",
       "├─────┼─────┼───────┼──────────┼──────────┤\n",
       "│ 1   │ p04 │ 101   │ 1.92281  │ 0.324842 │\n",
       "│ 2   │ p04 │ 102   │ 1.24944  │ 0.320557 │\n",
       "│ 3   │ p04 │ 103   │ 14.785   │ 0.146042 │\n",
       "│ 4   │ p04 │ 201   │ 0.918948 │ 0.397393 │\n",
       "│ 5   │ p04 │ 202   │ 25.1528  │ 0.110837 │\n",
       "│ 6   │ p04 │ 301   │ 6.47892  │ 0.195967 │\n",
       "│ 7   │ p04 │ 302   │ 12.7274  │ 0.166372 │\n",
       "│ 8   │ p04 │ 303   │ 19.25    │ 0.121847 │\n",
       "│ 9   │ p04 │ 304   │ 2.53326  │ 0.247819 │\n",
       "│ 10  │ p04 │ 305   │ 12.777   │ 0.153487 │"
      ]
     },
     "execution_count": 40,
     "metadata": {},
     "output_type": "execute_result"
    }
   ],
   "source": [
    "res_cv[res_cv.pid .== \"p04\",:]"
   ]
  },
  {
   "cell_type": "markdown",
   "metadata": {},
   "source": [
    "We can also compare the reliability of estimates among PUMS records. For example, larger estimates for record `p07` are somewhat less reliable than those for `p04` (i.e., block group `301`):"
   ]
  },
  {
   "cell_type": "code",
   "execution_count": 41,
   "metadata": {},
   "outputs": [
    {
     "data": {
      "text/html": [
       "<table class=\"data-frame\"><thead><tr><th></th><th>pid</th><th>geoid</th><th>est</th><th>x1</th></tr><tr><th></th><th>Any</th><th>Cat…</th><th>Any</th><th>Float64</th></tr></thead><tbody><p>10 rows × 4 columns</p><tr><th>1</th><td>p07</td><td>101</td><td>47.3276</td><td>0.11864</td></tr><tr><th>2</th><td>p07</td><td>102</td><td>12.3843</td><td>0.201633</td></tr><tr><th>3</th><td>p07</td><td>103</td><td>0.422785</td><td>0.653043</td></tr><tr><th>4</th><td>p07</td><td>201</td><td>23.0566</td><td>0.170567</td></tr><tr><th>5</th><td>p07</td><td>202</td><td>7.66215</td><td>0.224834</td></tr><tr><th>6</th><td>p07</td><td>301</td><td>25.9263</td><td>0.14183</td></tr><tr><th>7</th><td>p07</td><td>302</td><td>6.43083</td><td>0.279709</td></tr><tr><th>8</th><td>p07</td><td>303</td><td>7.58815</td><td>0.281647</td></tr><tr><th>9</th><td>p07</td><td>304</td><td>30.7767</td><td>0.132775</td></tr><tr><th>10</th><td>p07</td><td>305</td><td>1.89203</td><td>0.43351</td></tr></tbody></table>"
      ],
      "text/latex": [
       "\\begin{tabular}{r|cccc}\n",
       "\t& pid & geoid & est & x1\\\\\n",
       "\t\\hline\n",
       "\t& Any & Cat… & Any & Float64\\\\\n",
       "\t\\hline\n",
       "\t1 & p07 & 101 & 47.3276 & 0.11864 \\\\\n",
       "\t2 & p07 & 102 & 12.3843 & 0.201633 \\\\\n",
       "\t3 & p07 & 103 & 0.422785 & 0.653043 \\\\\n",
       "\t4 & p07 & 201 & 23.0566 & 0.170567 \\\\\n",
       "\t5 & p07 & 202 & 7.66215 & 0.224834 \\\\\n",
       "\t6 & p07 & 301 & 25.9263 & 0.14183 \\\\\n",
       "\t7 & p07 & 302 & 6.43083 & 0.279709 \\\\\n",
       "\t8 & p07 & 303 & 7.58815 & 0.281647 \\\\\n",
       "\t9 & p07 & 304 & 30.7767 & 0.132775 \\\\\n",
       "\t10 & p07 & 305 & 1.89203 & 0.43351 \\\\\n",
       "\\end{tabular}\n"
      ],
      "text/plain": [
       "10×4 DataFrame\n",
       "│ Row │ pid │ geoid │ est      │ x1       │\n",
       "│     │ \u001b[90mAny\u001b[39m │ \u001b[90mCat…\u001b[39m  │ \u001b[90mAny\u001b[39m      │ \u001b[90mFloat64\u001b[39m  │\n",
       "├─────┼─────┼───────┼──────────┼──────────┤\n",
       "│ 1   │ p07 │ 101   │ 47.3276  │ 0.11864  │\n",
       "│ 2   │ p07 │ 102   │ 12.3843  │ 0.201633 │\n",
       "│ 3   │ p07 │ 103   │ 0.422785 │ 0.653043 │\n",
       "│ 4   │ p07 │ 201   │ 23.0566  │ 0.170567 │\n",
       "│ 5   │ p07 │ 202   │ 7.66215  │ 0.224834 │\n",
       "│ 6   │ p07 │ 301   │ 25.9263  │ 0.14183  │\n",
       "│ 7   │ p07 │ 302   │ 6.43083  │ 0.279709 │\n",
       "│ 8   │ p07 │ 303   │ 7.58815  │ 0.281647 │\n",
       "│ 9   │ p07 │ 304   │ 30.7767  │ 0.132775 │\n",
       "│ 10  │ p07 │ 305   │ 1.89203  │ 0.43351  │"
      ]
     },
     "execution_count": 41,
     "metadata": {},
     "output_type": "execute_result"
    }
   ],
   "source": [
    "res_cv[res_cv.pid .== \"p07\",:]"
   ]
  }
 ],
 "metadata": {
  "kernelspec": {
   "display_name": "Julia 1.4.1",
   "language": "julia",
   "name": "julia-1.4"
  },
  "language_info": {
   "file_extension": ".jl",
   "mimetype": "application/julia",
   "name": "julia",
   "version": "1.4.1"
  }
 },
 "nbformat": 4,
 "nbformat_minor": 4
}
