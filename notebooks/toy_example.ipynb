{
 "cells": [
  {
   "cell_type": "markdown",
   "metadata": {},
   "source": [
    "# P-MEDM Toy Example"
   ]
  },
  {
   "cell_type": "code",
   "execution_count": 1,
   "metadata": {},
   "outputs": [],
   "source": [
    "cd(\"../\")"
   ]
  },
  {
   "cell_type": "code",
   "execution_count": 2,
   "metadata": {},
   "outputs": [],
   "source": [
    "using CSV\n",
    "using DataFrames\n",
    "using LinearAlgebra\n",
    "using Statistics\n",
    "using SparseArrays\n",
    "using SuiteSparse\n",
    "using Optim\n",
    "using Distributions\n",
    "using Random"
   ]
  },
  {
   "cell_type": "markdown",
   "metadata": {},
   "source": [
    "## P-MEDM Problem and Data\n",
    "\n",
    "- Census microdata (PUMS) with $n$ = 15 respondents, $N$ = 1286 people.\n",
    "- Public-Use Microdata Area (PUMA) consisting of 10 block groups.\n",
    "- **PROBLEM**: PUMS provides no information on the block groups in which each \"person\" (sample weight unit) in the PUMS resides. \n",
    "\n",
    "**Solution: Iterative Proportional Fitting (IPF).** Use census data published for two spatial scales, the target units (block groups) and an upper level (tracts), known as _constraints_ to make a \"guess\" at where people described by each response type belong. This is done by comparing the published constraints to synthetic constraints reconstructed from each \"guess\" at the probabilities of people's locations given by P-MEDM. The synthetic constraints are updated iteratively until a \"best guess\" is reached. \n",
    "\n",
    "But...**another problem!** Our census data comes from the American Community Survey (ACS). ACS data is updated annually but is inherently uncertain because it is based on a sample vs. a complete count of the population (i.e., the Decennial Census). \n",
    "\n",
    "**Penalized Maximum-Entropy Dasymetric Modeling (P-MEDM)** is an IPF technique specialized to deal with uncertain census data like the ACS (Leyk et al xx; Nagle et al 2014). Besides taking errors between the published and synthetic constraints into account, P-MEDM also accounts for _error variances_. The more \"in the ballpark\" of the published constraints and their variances the synthetic constraints are, the better the solution. Conversely, if a synthetic constraint is out of the range of probable values (i.e., 90% margin of error) of a published constraint, the more _penalized_ the solution will be.  "
   ]
  },
  {
   "cell_type": "code",
   "execution_count": 3,
   "metadata": {},
   "outputs": [],
   "source": [
    "## read in data\n",
    "constraints_ind = CSV.read(\"data/toy_constraints_ind.csv\");\n",
    "constraints_bg = CSV.read(\"data/toy_constraints_bg.csv\");\n",
    "constraints_trt = CSV.read(\"data/toy_constraints_trt.csv\");"
   ]
  },
  {
   "cell_type": "markdown",
   "metadata": {},
   "source": [
    "The **individual-level** constraints are derived from PUMS data. They consist of: \n",
    "\n",
    "- A unique ID for each response (`SERIAL`).\n",
    "- The sample weight (`PERWT`), which estimates how many people in the PUMA are described by each PUMS response.\n",
    "- Binary-encoded constraints."
   ]
  },
  {
   "cell_type": "code",
   "execution_count": 4,
   "metadata": {},
   "outputs": [
    {
     "data": {
      "text/html": [
       "<table class=\"data-frame\"><thead><tr><th></th><th>SERIAL</th><th>PERWT</th><th>POP</th><th>CONST1</th><th>CONST2</th><th>CONST3</th></tr><tr><th></th><th>String</th><th>Int64</th><th>Int64</th><th>Int64</th><th>Int64</th><th>Int64</th></tr></thead><tbody><p>15 rows × 6 columns</p><tr><th>1</th><td>p1</td><td>24</td><td>1</td><td>1</td><td>0</td><td>0</td></tr><tr><th>2</th><td>p2</td><td>79</td><td>1</td><td>0</td><td>0</td><td>1</td></tr><tr><th>3</th><td>p3</td><td>95</td><td>1</td><td>1</td><td>1</td><td>0</td></tr><tr><th>4</th><td>p4</td><td>95</td><td>1</td><td>0</td><td>1</td><td>0</td></tr><tr><th>5</th><td>p5</td><td>55</td><td>1</td><td>1</td><td>1</td><td>1</td></tr><tr><th>6</th><td>p6</td><td>69</td><td>1</td><td>0</td><td>0</td><td>0</td></tr><tr><th>7</th><td>p7</td><td>154</td><td>1</td><td>1</td><td>0</td><td>0</td></tr><tr><th>8</th><td>p8</td><td>24</td><td>1</td><td>1</td><td>0</td><td>1</td></tr><tr><th>9</th><td>p9</td><td>20</td><td>1</td><td>1</td><td>1</td><td>0</td></tr><tr><th>10</th><td>p10</td><td>14</td><td>1</td><td>1</td><td>0</td><td>1</td></tr><tr><th>11</th><td>p11</td><td>45</td><td>1</td><td>1</td><td>0</td><td>0</td></tr><tr><th>12</th><td>p12</td><td>179</td><td>1</td><td>0</td><td>0</td><td>1</td></tr><tr><th>13</th><td>p13</td><td>197</td><td>1</td><td>0</td><td>1</td><td>0</td></tr><tr><th>14</th><td>p14</td><td>57</td><td>1</td><td>0</td><td>0</td><td>1</td></tr><tr><th>15</th><td>p15</td><td>181</td><td>1</td><td>0</td><td>0</td><td>1</td></tr></tbody></table>"
      ],
      "text/latex": [
       "\\begin{tabular}{r|cccccc}\n",
       "\t& SERIAL & PERWT & POP & CONST1 & CONST2 & CONST3\\\\\n",
       "\t\\hline\n",
       "\t& String & Int64 & Int64 & Int64 & Int64 & Int64\\\\\n",
       "\t\\hline\n",
       "\t1 & p1 & 24 & 1 & 1 & 0 & 0 \\\\\n",
       "\t2 & p2 & 79 & 1 & 0 & 0 & 1 \\\\\n",
       "\t3 & p3 & 95 & 1 & 1 & 1 & 0 \\\\\n",
       "\t4 & p4 & 95 & 1 & 0 & 1 & 0 \\\\\n",
       "\t5 & p5 & 55 & 1 & 1 & 1 & 1 \\\\\n",
       "\t6 & p6 & 69 & 1 & 0 & 0 & 0 \\\\\n",
       "\t7 & p7 & 154 & 1 & 1 & 0 & 0 \\\\\n",
       "\t8 & p8 & 24 & 1 & 1 & 0 & 1 \\\\\n",
       "\t9 & p9 & 20 & 1 & 1 & 1 & 0 \\\\\n",
       "\t10 & p10 & 14 & 1 & 1 & 0 & 1 \\\\\n",
       "\t11 & p11 & 45 & 1 & 1 & 0 & 0 \\\\\n",
       "\t12 & p12 & 179 & 1 & 0 & 0 & 1 \\\\\n",
       "\t13 & p13 & 197 & 1 & 0 & 1 & 0 \\\\\n",
       "\t14 & p14 & 57 & 1 & 0 & 0 & 1 \\\\\n",
       "\t15 & p15 & 181 & 1 & 0 & 0 & 1 \\\\\n",
       "\\end{tabular}\n"
      ],
      "text/plain": [
       "15×6 DataFrame\n",
       "│ Row │ SERIAL │ PERWT │ POP   │ CONST1 │ CONST2 │ CONST3 │\n",
       "│     │ \u001b[90mString\u001b[39m │ \u001b[90mInt64\u001b[39m │ \u001b[90mInt64\u001b[39m │ \u001b[90mInt64\u001b[39m  │ \u001b[90mInt64\u001b[39m  │ \u001b[90mInt64\u001b[39m  │\n",
       "├─────┼────────┼───────┼───────┼────────┼────────┼────────┤\n",
       "│ 1   │ p1     │ 24    │ 1     │ 1      │ 0      │ 0      │\n",
       "│ 2   │ p2     │ 79    │ 1     │ 0      │ 0      │ 1      │\n",
       "│ 3   │ p3     │ 95    │ 1     │ 1      │ 1      │ 0      │\n",
       "│ 4   │ p4     │ 95    │ 1     │ 0      │ 1      │ 0      │\n",
       "│ 5   │ p5     │ 55    │ 1     │ 1      │ 1      │ 1      │\n",
       "│ 6   │ p6     │ 69    │ 1     │ 0      │ 0      │ 0      │\n",
       "│ 7   │ p7     │ 154   │ 1     │ 1      │ 0      │ 0      │\n",
       "│ 8   │ p8     │ 24    │ 1     │ 1      │ 0      │ 1      │\n",
       "│ 9   │ p9     │ 20    │ 1     │ 1      │ 1      │ 0      │\n",
       "│ 10  │ p10    │ 14    │ 1     │ 1      │ 0      │ 1      │\n",
       "│ 11  │ p11    │ 45    │ 1     │ 1      │ 0      │ 0      │\n",
       "│ 12  │ p12    │ 179   │ 1     │ 0      │ 0      │ 1      │\n",
       "│ 13  │ p13    │ 197   │ 1     │ 0      │ 1      │ 0      │\n",
       "│ 14  │ p14    │ 57    │ 1     │ 0      │ 0      │ 1      │\n",
       "│ 15  │ p15    │ 181   │ 1     │ 0      │ 0      │ 1      │"
      ]
     },
     "execution_count": 4,
     "metadata": {},
     "output_type": "execute_result"
    }
   ],
   "source": [
    "# preview individual-level constraints\n",
    "constraints_ind"
   ]
  },
  {
   "cell_type": "markdown",
   "metadata": {},
   "source": [
    "The **geographic constraints** at the target/upper levels are derived from the ACS Summary File. They consist of: \n",
    "\n",
    "- The geographic identifier for each census unit (`GEOID`).\n",
    "- The constraint estimates (i.e., `POP`).\n",
    "- The standard errors on the constraints, denoted here with a trailing `s`, (i.e., `POPs`). "
   ]
  },
  {
   "cell_type": "code",
   "execution_count": 5,
   "metadata": {},
   "outputs": [
    {
     "data": {
      "text/html": [
       "<table class=\"data-frame\"><thead><tr><th></th><th>GEOID</th><th>POP</th><th>POPs</th><th>CONST1</th><th>CONST1s</th><th>CONST2</th><th>CONST2s</th><th>CONST3</th><th>CONST3s</th></tr><tr><th></th><th>Int64</th><th>Int64</th><th>Int64</th><th>Int64</th><th>Int64</th><th>Int64</th><th>Int64</th><th>Int64</th><th>Int64</th></tr></thead><tbody><p>10 rows × 9 columns</p><tr><th>1</th><td>101</td><td>112</td><td>6</td><td>78</td><td>6</td><td>12</td><td>6</td><td>23</td><td>3</td></tr><tr><th>2</th><td>102</td><td>122</td><td>7</td><td>47</td><td>3</td><td>18</td><td>4</td><td>94</td><td>4</td></tr><tr><th>3</th><td>103</td><td>110</td><td>2</td><td>27</td><td>4</td><td>71</td><td>10</td><td>58</td><td>10</td></tr><tr><th>4</th><td>201</td><td>110</td><td>3</td><td>53</td><td>3</td><td>10</td><td>8</td><td>67</td><td>5</td></tr><tr><th>5</th><td>202</td><td>150</td><td>3</td><td>31</td><td>7</td><td>96</td><td>2</td><td>40</td><td>6</td></tr><tr><th>6</th><td>301</td><td>136</td><td>4</td><td>49</td><td>6</td><td>28</td><td>8</td><td>58</td><td>5</td></tr><tr><th>7</th><td>302</td><td>144</td><td>3</td><td>13</td><td>6</td><td>42</td><td>4</td><td>74</td><td>3</td></tr><tr><th>8</th><td>303</td><td>148</td><td>2</td><td>13</td><td>2</td><td>61</td><td>9</td><td>31</td><td>5</td></tr><tr><th>9</th><td>304</td><td>122</td><td>5</td><td>81</td><td>8</td><td>33</td><td>6</td><td>52</td><td>5</td></tr><tr><th>10</th><td>305</td><td>132</td><td>4</td><td>44</td><td>4</td><td>78</td><td>3</td><td>78</td><td>4</td></tr></tbody></table>"
      ],
      "text/latex": [
       "\\begin{tabular}{r|ccccccccc}\n",
       "\t& GEOID & POP & POPs & CONST1 & CONST1s & CONST2 & CONST2s & CONST3 & CONST3s\\\\\n",
       "\t\\hline\n",
       "\t& Int64 & Int64 & Int64 & Int64 & Int64 & Int64 & Int64 & Int64 & Int64\\\\\n",
       "\t\\hline\n",
       "\t1 & 101 & 112 & 6 & 78 & 6 & 12 & 6 & 23 & 3 \\\\\n",
       "\t2 & 102 & 122 & 7 & 47 & 3 & 18 & 4 & 94 & 4 \\\\\n",
       "\t3 & 103 & 110 & 2 & 27 & 4 & 71 & 10 & 58 & 10 \\\\\n",
       "\t4 & 201 & 110 & 3 & 53 & 3 & 10 & 8 & 67 & 5 \\\\\n",
       "\t5 & 202 & 150 & 3 & 31 & 7 & 96 & 2 & 40 & 6 \\\\\n",
       "\t6 & 301 & 136 & 4 & 49 & 6 & 28 & 8 & 58 & 5 \\\\\n",
       "\t7 & 302 & 144 & 3 & 13 & 6 & 42 & 4 & 74 & 3 \\\\\n",
       "\t8 & 303 & 148 & 2 & 13 & 2 & 61 & 9 & 31 & 5 \\\\\n",
       "\t9 & 304 & 122 & 5 & 81 & 8 & 33 & 6 & 52 & 5 \\\\\n",
       "\t10 & 305 & 132 & 4 & 44 & 4 & 78 & 3 & 78 & 4 \\\\\n",
       "\\end{tabular}\n"
      ],
      "text/plain": [
       "10×9 DataFrame. Omitted printing of 1 columns\n",
       "│ Row │ GEOID │ POP   │ POPs  │ CONST1 │ CONST1s │ CONST2 │ CONST2s │ CONST3 │\n",
       "│     │ \u001b[90mInt64\u001b[39m │ \u001b[90mInt64\u001b[39m │ \u001b[90mInt64\u001b[39m │ \u001b[90mInt64\u001b[39m  │ \u001b[90mInt64\u001b[39m   │ \u001b[90mInt64\u001b[39m  │ \u001b[90mInt64\u001b[39m   │ \u001b[90mInt64\u001b[39m  │\n",
       "├─────┼───────┼───────┼───────┼────────┼─────────┼────────┼─────────┼────────┤\n",
       "│ 1   │ 101   │ 112   │ 6     │ 78     │ 6       │ 12     │ 6       │ 23     │\n",
       "│ 2   │ 102   │ 122   │ 7     │ 47     │ 3       │ 18     │ 4       │ 94     │\n",
       "│ 3   │ 103   │ 110   │ 2     │ 27     │ 4       │ 71     │ 10      │ 58     │\n",
       "│ 4   │ 201   │ 110   │ 3     │ 53     │ 3       │ 10     │ 8       │ 67     │\n",
       "│ 5   │ 202   │ 150   │ 3     │ 31     │ 7       │ 96     │ 2       │ 40     │\n",
       "│ 6   │ 301   │ 136   │ 4     │ 49     │ 6       │ 28     │ 8       │ 58     │\n",
       "│ 7   │ 302   │ 144   │ 3     │ 13     │ 6       │ 42     │ 4       │ 74     │\n",
       "│ 8   │ 303   │ 148   │ 2     │ 13     │ 2       │ 61     │ 9       │ 31     │\n",
       "│ 9   │ 304   │ 122   │ 5     │ 81     │ 8       │ 33     │ 6       │ 52     │\n",
       "│ 10  │ 305   │ 132   │ 4     │ 44     │ 4       │ 78     │ 3       │ 78     │"
      ]
     },
     "execution_count": 5,
     "metadata": {},
     "output_type": "execute_result"
    }
   ],
   "source": [
    "# preview target (block-group) level constraints\n",
    "constraints_bg"
   ]
  },
  {
   "cell_type": "code",
   "execution_count": 6,
   "metadata": {},
   "outputs": [
    {
     "data": {
      "text/html": [
       "<table class=\"data-frame\"><thead><tr><th></th><th>GEOID</th><th>POP</th><th>CONST1</th><th>CONST2</th><th>CONST3</th><th>POPs</th><th>CONST1s</th><th>CONST2s</th><th>CONST3s</th></tr><tr><th></th><th>Int64</th><th>Int64</th><th>Int64</th><th>Int64</th><th>Int64</th><th>Float64</th><th>Float64</th><th>Float64</th><th>Float64</th></tr></thead><tbody><p>3 rows × 9 columns</p><tr><th>1</th><td>10</td><td>344</td><td>152</td><td>101</td><td>175</td><td>9.43398</td><td>7.81025</td><td>12.3288</td><td>11.1803</td></tr><tr><th>2</th><td>20</td><td>260</td><td>84</td><td>106</td><td>107</td><td>4.24264</td><td>7.61577</td><td>8.24621</td><td>7.81025</td></tr><tr><th>3</th><td>30</td><td>682</td><td>200</td><td>242</td><td>293</td><td>8.3666</td><td>12.49</td><td>14.3527</td><td>10.0</td></tr></tbody></table>"
      ],
      "text/latex": [
       "\\begin{tabular}{r|ccccccccc}\n",
       "\t& GEOID & POP & CONST1 & CONST2 & CONST3 & POPs & CONST1s & CONST2s & CONST3s\\\\\n",
       "\t\\hline\n",
       "\t& Int64 & Int64 & Int64 & Int64 & Int64 & Float64 & Float64 & Float64 & Float64\\\\\n",
       "\t\\hline\n",
       "\t1 & 10 & 344 & 152 & 101 & 175 & 9.43398 & 7.81025 & 12.3288 & 11.1803 \\\\\n",
       "\t2 & 20 & 260 & 84 & 106 & 107 & 4.24264 & 7.61577 & 8.24621 & 7.81025 \\\\\n",
       "\t3 & 30 & 682 & 200 & 242 & 293 & 8.3666 & 12.49 & 14.3527 & 10.0 \\\\\n",
       "\\end{tabular}\n"
      ],
      "text/plain": [
       "3×9 DataFrame. Omitted printing of 1 columns\n",
       "│ Row │ GEOID │ POP   │ CONST1 │ CONST2 │ CONST3 │ POPs    │ CONST1s │ CONST2s │\n",
       "│     │ \u001b[90mInt64\u001b[39m │ \u001b[90mInt64\u001b[39m │ \u001b[90mInt64\u001b[39m  │ \u001b[90mInt64\u001b[39m  │ \u001b[90mInt64\u001b[39m  │ \u001b[90mFloat64\u001b[39m │ \u001b[90mFloat64\u001b[39m │ \u001b[90mFloat64\u001b[39m │\n",
       "├─────┼───────┼───────┼────────┼────────┼────────┼─────────┼─────────┼─────────┤\n",
       "│ 1   │ 10    │ 344   │ 152    │ 101    │ 175    │ 9.43398 │ 7.81025 │ 12.3288 │\n",
       "│ 2   │ 20    │ 260   │ 84     │ 106    │ 107    │ 4.24264 │ 7.61577 │ 8.24621 │\n",
       "│ 3   │ 30    │ 682   │ 200    │ 242    │ 293    │ 8.3666  │ 12.49   │ 14.3527 │"
      ]
     },
     "execution_count": 6,
     "metadata": {},
     "output_type": "execute_result"
    }
   ],
   "source": [
    "# preview upper (tract) level constraints\n",
    "constraints_trt"
   ]
  },
  {
   "cell_type": "markdown",
   "metadata": {},
   "source": [
    "Because the target/upper levels are nested, we need a crosswalk (`geo_lookup`) to link them:"
   ]
  },
  {
   "cell_type": "code",
   "execution_count": 7,
   "metadata": {},
   "outputs": [
    {
     "data": {
      "text/html": [
       "<table class=\"data-frame\"><thead><tr><th></th><th>bg</th><th>trt</th></tr><tr><th></th><th>String</th><th>String</th></tr></thead><tbody><p>10 rows × 2 columns</p><tr><th>1</th><td>101</td><td>10</td></tr><tr><th>2</th><td>102</td><td>10</td></tr><tr><th>3</th><td>103</td><td>10</td></tr><tr><th>4</th><td>201</td><td>20</td></tr><tr><th>5</th><td>202</td><td>20</td></tr><tr><th>6</th><td>301</td><td>30</td></tr><tr><th>7</th><td>302</td><td>30</td></tr><tr><th>8</th><td>303</td><td>30</td></tr><tr><th>9</th><td>304</td><td>30</td></tr><tr><th>10</th><td>305</td><td>30</td></tr></tbody></table>"
      ],
      "text/latex": [
       "\\begin{tabular}{r|cc}\n",
       "\t& bg & trt\\\\\n",
       "\t\\hline\n",
       "\t& String & String\\\\\n",
       "\t\\hline\n",
       "\t1 & 101 & 10 \\\\\n",
       "\t2 & 102 & 10 \\\\\n",
       "\t3 & 103 & 10 \\\\\n",
       "\t4 & 201 & 20 \\\\\n",
       "\t5 & 202 & 20 \\\\\n",
       "\t6 & 301 & 30 \\\\\n",
       "\t7 & 302 & 30 \\\\\n",
       "\t8 & 303 & 30 \\\\\n",
       "\t9 & 304 & 30 \\\\\n",
       "\t10 & 305 & 30 \\\\\n",
       "\\end{tabular}\n"
      ],
      "text/plain": [
       "10×2 DataFrame\n",
       "│ Row │ bg     │ trt    │\n",
       "│     │ \u001b[90mString\u001b[39m │ \u001b[90mString\u001b[39m │\n",
       "├─────┼────────┼────────┤\n",
       "│ 1   │ 101    │ 10     │\n",
       "│ 2   │ 102    │ 10     │\n",
       "│ 3   │ 103    │ 10     │\n",
       "│ 4   │ 201    │ 20     │\n",
       "│ 5   │ 202    │ 20     │\n",
       "│ 6   │ 301    │ 30     │\n",
       "│ 7   │ 302    │ 30     │\n",
       "│ 8   │ 303    │ 30     │\n",
       "│ 9   │ 304    │ 30     │\n",
       "│ 10  │ 305    │ 30     │"
      ]
     },
     "execution_count": 7,
     "metadata": {},
     "output_type": "execute_result"
    }
   ],
   "source": [
    "## build geo lookup\n",
    "bg_id = string.(collect(constraints_bg[!,1]));\n",
    "trt_id = [s[1:2] for s in bg_id];\n",
    "geo_lookup = DataFrame(bg = bg_id, trt = trt_id)"
   ]
  },
  {
   "cell_type": "markdown",
   "metadata": {},
   "source": [
    "## Setup"
   ]
  },
  {
   "cell_type": "code",
   "execution_count": 8,
   "metadata": {},
   "outputs": [],
   "source": [
    "## PUMS response ids\n",
    "# serial = collect(constraints_ind.SERIAL);\n",
    "serial = [lpad(string(i), 2, '0') for i in 1:nrow(constraints_ind)]  \n",
    "serial = \"p\" .* serial;"
   ]
  },
  {
   "cell_type": "code",
   "execution_count": 9,
   "metadata": {},
   "outputs": [],
   "source": [
    "## PUMS sample weights\n",
    "wt = collect(constraints_ind.PERWT);"
   ]
  },
  {
   "cell_type": "code",
   "execution_count": 10,
   "metadata": {},
   "outputs": [],
   "source": [
    "## population and sample size\n",
    "N = sum(constraints_bg.POP);\n",
    "n = nrow(constraints_ind);"
   ]
  },
  {
   "cell_type": "markdown",
   "metadata": {},
   "source": [
    "### Individual (PUMS) Constraints\n",
    "\n",
    "Isolate the individual constraints and store them in a matrix `pX`: "
   ]
  },
  {
   "cell_type": "code",
   "execution_count": 11,
   "metadata": {},
   "outputs": [
    {
     "data": {
      "text/plain": [
       "15×4 Array{Int64,2}:\n",
       " 1  1  0  0\n",
       " 1  0  0  1\n",
       " 1  1  1  0\n",
       " 1  0  1  0\n",
       " 1  1  1  1\n",
       " 1  0  0  0\n",
       " 1  1  0  0\n",
       " 1  1  0  1\n",
       " 1  1  1  0\n",
       " 1  1  0  1\n",
       " 1  1  0  0\n",
       " 1  0  0  1\n",
       " 1  0  1  0\n",
       " 1  0  0  1\n",
       " 1  0  0  1"
      ]
     },
     "execution_count": 11,
     "metadata": {},
     "output_type": "execute_result"
    }
   ],
   "source": [
    "## Individual-level (PUMS) constraints\n",
    "excl = [\"SERIAL\", \"PERWT\"];\n",
    "constraint_cols = [i ∉ excl for i in names(constraints_ind)];\n",
    "pX = constraints_ind[!,constraint_cols];\n",
    "pX = convert(Matrix, pX)"
   ]
  },
  {
   "cell_type": "markdown",
   "metadata": {},
   "source": [
    "### Geographic Constraints\n",
    "\n",
    "First, ID the constraint columns representing estimates and the constraint columns representing standard errors:"
   ]
  },
  {
   "cell_type": "code",
   "execution_count": 12,
   "metadata": {},
   "outputs": [],
   "source": [
    "est_cols_bg = [!endswith(i, 's') && i != \"GEOID\" for i in names(constraints_bg)]\n",
    "est_cols_trt = [!endswith(i, 's') && i != \"GEOID\" for i in names(constraints_trt)]\n",
    "se_cols = [endswith(i, 's') for i in names(constraints_bg)];\n",
    "se_cols = names(constraints_bg)[se_cols];"
   ]
  },
  {
   "cell_type": "markdown",
   "metadata": {},
   "source": [
    "Next, isolate the geographic constraint estimates `Y`, first at the upper level, then at the target level:"
   ]
  },
  {
   "cell_type": "code",
   "execution_count": 13,
   "metadata": {},
   "outputs": [],
   "source": [
    "Y1 = convert(Matrix, constraints_trt[!,est_cols_trt])\n",
    "Y2 = convert(Matrix, constraints_bg[!,est_cols_bg]);"
   ]
  },
  {
   "cell_type": "markdown",
   "metadata": {},
   "source": [
    "Then another set of matrices to store the error variances (`V`) based on `se_cols`:"
   ]
  },
  {
   "cell_type": "code",
   "execution_count": 14,
   "metadata": {},
   "outputs": [],
   "source": [
    "## error variances\n",
    "V1 = map(x -> x^2, convert(Matrix, constraints_trt[!,se_cols]));\n",
    "V2 = map(x -> x^2, convert(Matrix, constraints_bg[!,se_cols]));"
   ]
  },
  {
   "cell_type": "markdown",
   "metadata": {},
   "source": [
    "### Linking Geographies"
   ]
  },
  {
   "cell_type": "markdown",
   "metadata": {},
   "source": [
    "Now we need to symbolically link the upper and target geographic constraint levels. This is done based on `geo_lookup`.\n",
    "\n",
    "First, generate a **crosswalk** between the upper and target levels (a matrix of $n$ upper units by $m$ target units):"
   ]
  },
  {
   "cell_type": "code",
   "execution_count": 15,
   "metadata": {},
   "outputs": [
    {
     "data": {
      "text/plain": [
       "3×10 Transpose{Int64,Array{Int64,2}}:\n",
       " 1  1  1  0  0  0  0  0  0  0\n",
       " 0  0  0  1  1  0  0  0  0  0\n",
       " 0  0  0  0  0  1  1  1  1  1"
      ]
     },
     "execution_count": 15,
     "metadata": {},
     "output_type": "execute_result"
    }
   ],
   "source": [
    "## Geographic crosswalk\n",
    "A1 = Int64[];\n",
    "\n",
    "for G in unique(geo_lookup.trt)\n",
    "\n",
    "    Gx = zeros(Int64, 1, nrow(constraints_bg))\n",
    "\n",
    "    isG = [occursin(G, g) for g in collect(geo_lookup.bg)]\n",
    "    for i in findall(isG)\n",
    "        Gx[i] = 1\n",
    "    end\n",
    "    append!(A1, Gx)\n",
    "\n",
    "end\n",
    "\n",
    "A1 = reshape(A1, nrow(constraints_bg), nrow(constraints_trt));\n",
    "A1 = transpose(A1)"
   ]
  },
  {
   "cell_type": "markdown",
   "metadata": {},
   "source": [
    "Then generate an **identity matrix** for the target units:"
   ]
  },
  {
   "cell_type": "code",
   "execution_count": 16,
   "metadata": {},
   "outputs": [
    {
     "data": {
      "text/plain": [
       "10×10 Array{Bool,2}:\n",
       "  true  false  false  false  false  false  false  false  false  false\n",
       " false   true  false  false  false  false  false  false  false  false\n",
       " false  false   true  false  false  false  false  false  false  false\n",
       " false  false  false   true  false  false  false  false  false  false\n",
       " false  false  false  false   true  false  false  false  false  false\n",
       " false  false  false  false  false   true  false  false  false  false\n",
       " false  false  false  false  false  false   true  false  false  false\n",
       " false  false  false  false  false  false  false   true  false  false\n",
       " false  false  false  false  false  false  false  false   true  false\n",
       " false  false  false  false  false  false  false  false  false   true"
      ]
     },
     "execution_count": 16,
     "metadata": {},
     "output_type": "execute_result"
    }
   ],
   "source": [
    "## Target unit identity matrix\n",
    "A2 = Matrix(I, nrow(constraints_bg), nrow(constraints_bg))"
   ]
  },
  {
   "cell_type": "markdown",
   "metadata": {},
   "source": [
    "### Linking the PUMS constraints to Geographies\n",
    "\n",
    "#### Model Matrix\n",
    "\n",
    "Next, create the model matrix `X` for the P-MEDM problem. It consists of:\n",
    "\n",
    "1. The kroenecker product of the PUMS constraints `pX` and the geographic crosswalk `A1`.\n",
    "2. The kroenecker product of the PUMS constraints `pX` and the target level identity matrix `A2`."
   ]
  },
  {
   "cell_type": "code",
   "execution_count": 17,
   "metadata": {},
   "outputs": [],
   "source": [
    "## Solution space (X-matrix)\n",
    "X1 = kron(transpose(pX), A1);\n",
    "X2 = kron(transpose(pX), A2);\n",
    "X = transpose(vcat(X1, X2));"
   ]
  },
  {
   "cell_type": "markdown",
   "metadata": {},
   "source": [
    "#### Design Weights\n",
    "\n",
    "The design weights `q` are the prior estimate of the P-MEDM allocation matrix. The assumption is that each PUMS record has an equal probability of being found in each target unit, relative to the sample weight's share of the total population."
   ]
  },
  {
   "cell_type": "code",
   "execution_count": 18,
   "metadata": {},
   "outputs": [
    {
     "data": {
      "text/plain": [
       "15×10 Array{Float64,2}:\n",
       " 0.00186335  0.00186335  0.00186335  …  0.00186335  0.00186335  0.00186335\n",
       " 0.00613354  0.00613354  0.00613354     0.00613354  0.00613354  0.00613354\n",
       " 0.00737578  0.00737578  0.00737578     0.00737578  0.00737578  0.00737578\n",
       " 0.00737578  0.00737578  0.00737578     0.00737578  0.00737578  0.00737578\n",
       " 0.00427019  0.00427019  0.00427019     0.00427019  0.00427019  0.00427019\n",
       " 0.00535714  0.00535714  0.00535714  …  0.00535714  0.00535714  0.00535714\n",
       " 0.0119565   0.0119565   0.0119565      0.0119565   0.0119565   0.0119565 \n",
       " 0.00186335  0.00186335  0.00186335     0.00186335  0.00186335  0.00186335\n",
       " 0.0015528   0.0015528   0.0015528      0.0015528   0.0015528   0.0015528 \n",
       " 0.00108696  0.00108696  0.00108696     0.00108696  0.00108696  0.00108696\n",
       " 0.00349379  0.00349379  0.00349379  …  0.00349379  0.00349379  0.00349379\n",
       " 0.0138975   0.0138975   0.0138975      0.0138975   0.0138975   0.0138975 \n",
       " 0.015295    0.015295    0.015295       0.015295    0.015295    0.015295  \n",
       " 0.00442547  0.00442547  0.00442547     0.00442547  0.00442547  0.00442547\n",
       " 0.0140528   0.0140528   0.0140528      0.0140528   0.0140528   0.0140528 "
      ]
     },
     "execution_count": 18,
     "metadata": {},
     "output_type": "execute_result"
    }
   ],
   "source": [
    "## Design weights\n",
    "q = repeat(wt, size(A1)[2]);\n",
    "q = reshape(q, n, size(A1)[2]);\n",
    "q = q / sum(q)"
   ]
  },
  {
   "cell_type": "markdown",
   "metadata": {},
   "source": [
    "### Vectorize Inputs"
   ]
  },
  {
   "cell_type": "markdown",
   "metadata": {},
   "source": [
    "Since P-MEDM is a linear problem, we need to vectorize the constraints (`Y`), error variances (`V`), and design weights (`q`) before running it. "
   ]
  },
  {
   "cell_type": "code",
   "execution_count": 19,
   "metadata": {},
   "outputs": [],
   "source": [
    "## Vectorize geo. constraints (Y) and normalize\n",
    "Y_vec = vcat(vec(Y1), vec(Y2)) / N; "
   ]
  },
  {
   "cell_type": "code",
   "execution_count": 20,
   "metadata": {},
   "outputs": [],
   "source": [
    "## Vectorize variances and normalize\n",
    "V_vec = vcat(vec(V1), vec(V2)) * (n / N^2);"
   ]
  },
  {
   "cell_type": "code",
   "execution_count": 21,
   "metadata": {},
   "outputs": [],
   "source": [
    "## Vectorize the design weights\n",
    "q = vec(q');"
   ]
  },
  {
   "cell_type": "markdown",
   "metadata": {},
   "source": [
    "A diagonal matrix of the error variances (`sV`) is also generated to compute the Hessian for the solver:"
   ]
  },
  {
   "cell_type": "code",
   "execution_count": 22,
   "metadata": {},
   "outputs": [],
   "source": [
    "## Diagonal matrix of variances\n",
    "sV = Diagonal(V_vec);"
   ]
  },
  {
   "cell_type": "markdown",
   "metadata": {},
   "source": [
    "## Functions"
   ]
  },
  {
   "cell_type": "code",
   "execution_count": 23,
   "metadata": {},
   "outputs": [],
   "source": [
    "## Convenience function to compute the P_MEDM probabilities from q, X, λ\n",
    "compute_allocation = function(q, X, λ)\n",
    "\n",
    "    qXl = q .* exp.(-X * λ)\n",
    "    p = qXl / sum(qXl)\n",
    "\n",
    "end;"
   ]
  },
  {
   "cell_type": "code",
   "execution_count": 24,
   "metadata": {},
   "outputs": [],
   "source": [
    "## Objective Function\n",
    "f = function(λ)\n",
    "\n",
    "    qXl = exp.(-X * λ) .* q\n",
    "    p = qXl / sum(qXl)\n",
    "\n",
    "    Xp = X' * p\n",
    "    lvl = λ' * (sV * λ);\n",
    "\n",
    "    return (Y_vec' * λ) + log(sum(qXl)) + (0.5 * lvl)\n",
    "\n",
    "end;"
   ]
  },
  {
   "cell_type": "code",
   "execution_count": 25,
   "metadata": {},
   "outputs": [],
   "source": [
    "## Gradient function\n",
    "g! = function(G, λ)\n",
    "    \n",
    "    qXl = q .* exp.(-X * λ)\n",
    "    p = qXl / sum(qXl)\n",
    "    Xp = X'p\n",
    "    G[:] = Y_vec + (sV * λ) - Xp\n",
    "    \n",
    "end;"
   ]
  },
  {
   "cell_type": "code",
   "execution_count": 26,
   "metadata": {},
   "outputs": [],
   "source": [
    "## Hessian function\n",
    "h! = function(H, λ)\n",
    "    \n",
    "    qXl = q .* exp.(-X * λ)\n",
    "    p = qXl / sum(qXl)\n",
    "    dp = spdiagm(0 => p)\n",
    "    H[:] = -((X'p) * (p'X)) + (X' * dp * X) + sV\n",
    "    \n",
    "end;"
   ]
  },
  {
   "cell_type": "markdown",
   "metadata": {},
   "source": [
    "## Optimization: Solving the P-MEDM Problem\n",
    "\n",
    "We initialize the coefficient estimates $\\lambda$ at 0. When initializing $\\lambda$ at 0, our prior allocation probabilities are equal to `q`. Each successive step in the P-MEDM optimization updates $\\lambda$ and refines the prior allocation probabilities given by `q`."
   ]
  },
  {
   "cell_type": "code",
   "execution_count": 27,
   "metadata": {},
   "outputs": [
    {
     "name": "stdout",
     "output_type": "stream",
     "text": [
      "Iter     Function value   Gradient norm \n",
      "     0     0.000000e+00     3.878051e-02\n",
      " * time: 0.09769201278686523\n",
      "     1    -9.929947e-02     2.424084e-02\n",
      " * time: 0.8111019134521484\n",
      "     2    -2.196340e-01     1.261616e-02\n",
      " * time: 0.8158390522003174\n",
      "     3    -3.030174e-01     1.107659e-02\n",
      " * time: 0.8203980922698975\n",
      "     4    -3.106178e-01     1.243384e-03\n",
      " * time: 0.824894905090332\n",
      "     5    -3.108612e-01     1.091824e-04\n",
      " * time: 0.8362541198730469\n",
      "     6    -3.108625e-01     9.271657e-07\n",
      " * time: 0.8500781059265137\n",
      "     7    -3.108625e-01     6.433853e-11\n",
      " * time: 0.8553659915924072\n"
     ]
    }
   ],
   "source": [
    "using Optim\n",
    "\n",
    "init_λ = zeros(length(Y_vec))\n",
    "\n",
    "opt = optimize(f, g!, h!, init_λ, NewtonTrustRegion(),\n",
    "               Optim.Options(show_trace=true, iterations = 200));"
   ]
  },
  {
   "cell_type": "code",
   "execution_count": 28,
   "metadata": {},
   "outputs": [],
   "source": [
    "## final coefficients (lambdas/λ)\n",
    "λ = Optim.minimizer(opt);"
   ]
  },
  {
   "cell_type": "code",
   "execution_count": 29,
   "metadata": {},
   "outputs": [
    {
     "data": {
      "text/html": [
       "<table class=\"data-frame\"><thead><tr><th></th><th>Y</th><th>Yhat</th><th>MOE_lower</th><th>MOE_upper</th></tr><tr><th></th><th>Float64</th><th>Float64</th><th>Float64</th><th>Float64</th></tr></thead><tbody><p>10 rows × 4 columns</p><tr><th>1</th><td>344.0</td><td>344.093</td><td>328.481</td><td>359.519</td></tr><tr><th>2</th><td>260.0</td><td>259.985</td><td>253.021</td><td>266.979</td></tr><tr><th>3</th><td>682.0</td><td>681.922</td><td>668.237</td><td>695.763</td></tr><tr><th>4</th><td>152.0</td><td>151.851</td><td>139.152</td><td>164.848</td></tr><tr><th>5</th><td>84.0</td><td>84.1535</td><td>71.4721</td><td>96.5279</td></tr><tr><th>6</th><td>200.0</td><td>199.944</td><td>179.454</td><td>220.546</td></tr><tr><th>7</th><td>101.0</td><td>100.062</td><td>80.7191</td><td>121.281</td></tr><tr><th>8</th><td>106.0</td><td>106.546</td><td>92.435</td><td>119.565</td></tr><tr><th>9</th><td>242.0</td><td>242.982</td><td>218.39</td><td>265.61</td></tr><tr><th>10</th><td>175.0</td><td>173.933</td><td>156.608</td><td>193.392</td></tr></tbody></table>"
      ],
      "text/latex": [
       "\\begin{tabular}{r|cccc}\n",
       "\t& Y & Yhat & MOE\\_lower & MOE\\_upper\\\\\n",
       "\t\\hline\n",
       "\t& Float64 & Float64 & Float64 & Float64\\\\\n",
       "\t\\hline\n",
       "\t1 & 344.0 & 344.093 & 328.481 & 359.519 \\\\\n",
       "\t2 & 260.0 & 259.985 & 253.021 & 266.979 \\\\\n",
       "\t3 & 682.0 & 681.922 & 668.237 & 695.763 \\\\\n",
       "\t4 & 152.0 & 151.851 & 139.152 & 164.848 \\\\\n",
       "\t5 & 84.0 & 84.1535 & 71.4721 & 96.5279 \\\\\n",
       "\t6 & 200.0 & 199.944 & 179.454 & 220.546 \\\\\n",
       "\t7 & 101.0 & 100.062 & 80.7191 & 121.281 \\\\\n",
       "\t8 & 106.0 & 106.546 & 92.435 & 119.565 \\\\\n",
       "\t9 & 242.0 & 242.982 & 218.39 & 265.61 \\\\\n",
       "\t10 & 175.0 & 173.933 & 156.608 & 193.392 \\\\\n",
       "\\end{tabular}\n"
      ],
      "text/plain": [
       "10×4 DataFrame\n",
       "│ Row │ Y       │ Yhat    │ MOE_lower │ MOE_upper │\n",
       "│     │ \u001b[90mFloat64\u001b[39m │ \u001b[90mFloat64\u001b[39m │ \u001b[90mFloat64\u001b[39m   │ \u001b[90mFloat64\u001b[39m   │\n",
       "├─────┼─────────┼─────────┼───────────┼───────────┤\n",
       "│ 1   │ 344.0   │ 344.093 │ 328.481   │ 359.519   │\n",
       "│ 2   │ 260.0   │ 259.985 │ 253.021   │ 266.979   │\n",
       "│ 3   │ 682.0   │ 681.922 │ 668.237   │ 695.763   │\n",
       "│ 4   │ 152.0   │ 151.851 │ 139.152   │ 164.848   │\n",
       "│ 5   │ 84.0    │ 84.1535 │ 71.4721   │ 96.5279   │\n",
       "│ 6   │ 200.0   │ 199.944 │ 179.454   │ 220.546   │\n",
       "│ 7   │ 101.0   │ 100.062 │ 80.7191   │ 121.281   │\n",
       "│ 8   │ 106.0   │ 106.546 │ 92.435    │ 119.565   │\n",
       "│ 9   │ 242.0   │ 242.982 │ 218.39    │ 265.61    │\n",
       "│ 10  │ 175.0   │ 173.933 │ 156.608   │ 193.392   │"
      ]
     },
     "execution_count": 29,
     "metadata": {},
     "output_type": "execute_result"
    }
   ],
   "source": [
    "## inspect results\n",
    "phat = compute_allocation(q, X, λ);\n",
    "phat = reshape(phat, size(A2)[1], size(pX)[1])';\n",
    "\n",
    "Yhat2 = (N * phat)' * pX;\n",
    "\n",
    "phat_trt = (phat * N) * A1';\n",
    "Yhat1 = phat_trt' * pX;\n",
    "\n",
    "Yhat = vcat(vec(Yhat1), vec(Yhat2));\n",
    "\n",
    "Ype = DataFrame(Y = Y_vec * N, Yhat = Yhat, V = V_vec * (N^2/n));\n",
    "\n",
    "#90% MOEs\n",
    "Ype.MOE_lower = Ype.Y - (sqrt.(Ype.V) * 1.645);\n",
    "Ype.MOE_upper = Ype.Y + (sqrt.(Ype.V) * 1.645);\n",
    "\n",
    "first(Ype[:,[\"Y\", \"Yhat\", \"MOE_lower\", \"MOE_upper\"]], 10)"
   ]
  },
  {
   "cell_type": "code",
   "execution_count": 30,
   "metadata": {},
   "outputs": [
    {
     "data": {
      "text/plain": [
       "0.0"
      ]
     },
     "execution_count": 30,
     "metadata": {},
     "output_type": "execute_result"
    }
   ],
   "source": [
    "# Proportion of contstraints falling outside 90% MOE\n",
    "sum((Ype.Yhat .< Ype.MOE_lower) + (Ype.Yhat .> Ype.MOE_upper) .>= 1) / nrow(Ype)"
   ]
  },
  {
   "cell_type": "markdown",
   "metadata": {},
   "source": [
    "## Synthetic Population Estimates"
   ]
  },
  {
   "cell_type": "markdown",
   "metadata": {},
   "source": [
    "The target-level (block group) estimates of each group are simply"
   ]
  },
  {
   "cell_type": "code",
   "execution_count": 31,
   "metadata": {},
   "outputs": [
    {
     "data": {
      "text/html": [
       "<table class=\"data-frame\"><thead><tr><th></th><th>pid</th><th>101</th><th>102</th><th>103</th><th>201</th><th>202</th><th>301</th><th>302</th><th>303</th></tr><tr><th></th><th>Any</th><th>Any</th><th>Any</th><th>Any</th><th>Any</th><th>Any</th><th>Any</th><th>Any</th><th>Any</th></tr></thead><tbody><p>15 rows × 11 columns (omitted printing of 2 columns)</p><tr><th>1</th><td>p01</td><td>7.27072</td><td>1.94817</td><td>0.134704</td><td>3.56915</td><td>1.19697</td><td>4.01015</td><td>1.04981</td><td>1.18496</td></tr><tr><th>2</th><td>p02</td><td>3.01165</td><td>11.0516</td><td>6.02609</td><td>8.09612</td><td>5.47902</td><td>8.43669</td><td>11.5475</td><td>4.9907</td></tr><tr><th>3</th><td>p03</td><td>4.85058</td><td>3.59787</td><td>5.70877</td><td>3.08769</td><td>11.8839</td><td>5.51502</td><td>2.05031</td><td>1.5162</td></tr><tr><th>4</th><td>p04</td><td>2.03528</td><td>1.31002</td><td>14.3303</td><td>0.991996</td><td>25.0515</td><td>6.53471</td><td>12.6661</td><td>19.4417</td></tr><tr><th>5</th><td>p05</td><td>0.842197</td><td>9.85908</td><td>17.894</td><td>3.83437</td><td>4.53865</td><td>1.72227</td><td>0.64209</td><td>0.0875914</td></tr><tr><th>6</th><td>p06</td><td>8.77093</td><td>2.03937</td><td>0.972146</td><td>3.29669</td><td>7.25433</td><td>13.6609</td><td>18.6454</td><td>43.6837</td></tr><tr><th>7</th><td>p07</td><td>46.6538</td><td>12.5007</td><td>0.864349</td><td>22.902</td><td>7.68058</td><td>25.7318</td><td>6.73628</td><td>7.6035</td></tr><tr><th>8</th><td>p08</td><td>2.18051</td><td>9.22099</td><td>0.7293</td><td>7.65571</td><td>0.789609</td><td>2.1631</td><td>0.567869</td><td>0.118241</td></tr><tr><th>9</th><td>p09</td><td>1.02118</td><td>0.757446</td><td>1.20185</td><td>0.650041</td><td>2.50188</td><td>1.16106</td><td>0.431644</td><td>0.319201</td></tr><tr><th>10</th><td>p10</td><td>1.27196</td><td>5.37891</td><td>0.425425</td><td>4.46583</td><td>0.460606</td><td>1.26181</td><td>0.331257</td><td>0.068974</td></tr><tr><th>11</th><td>p11</td><td>13.6326</td><td>3.65281</td><td>0.252569</td><td>6.69215</td><td>2.24432</td><td>7.51904</td><td>1.96839</td><td>2.2218</td></tr><tr><th>12</th><td>p12</td><td>6.82386</td><td>25.041</td><td>13.6541</td><td>18.3444</td><td>12.4145</td><td>19.116</td><td>26.1645</td><td>11.308</td></tr><tr><th>13</th><td>p13</td><td>4.22053</td><td>2.71657</td><td>29.7166</td><td>2.05709</td><td>51.949</td><td>13.5509</td><td>26.2654</td><td>40.316</td></tr><tr><th>14</th><td>p14</td><td>2.17296</td><td>7.97396</td><td>4.34794</td><td>5.84151</td><td>3.95322</td><td>6.08723</td><td>8.33171</td><td>3.60088</td></tr><tr><th>15</th><td>p15</td><td>6.9001</td><td>25.3208</td><td>13.8066</td><td>18.5493</td><td>12.5532</td><td>19.3296</td><td>26.4568</td><td>11.4344</td></tr></tbody></table>"
      ],
      "text/latex": [
       "\\begin{tabular}{r|cccccccccc}\n",
       "\t& pid & 101 & 102 & 103 & 201 & 202 & 301 & 302 & 303 & \\\\\n",
       "\t\\hline\n",
       "\t& Any & Any & Any & Any & Any & Any & Any & Any & Any & \\\\\n",
       "\t\\hline\n",
       "\t1 & p01 & 7.27072 & 1.94817 & 0.134704 & 3.56915 & 1.19697 & 4.01015 & 1.04981 & 1.18496 & $\\dots$ \\\\\n",
       "\t2 & p02 & 3.01165 & 11.0516 & 6.02609 & 8.09612 & 5.47902 & 8.43669 & 11.5475 & 4.9907 & $\\dots$ \\\\\n",
       "\t3 & p03 & 4.85058 & 3.59787 & 5.70877 & 3.08769 & 11.8839 & 5.51502 & 2.05031 & 1.5162 & $\\dots$ \\\\\n",
       "\t4 & p04 & 2.03528 & 1.31002 & 14.3303 & 0.991996 & 25.0515 & 6.53471 & 12.6661 & 19.4417 & $\\dots$ \\\\\n",
       "\t5 & p05 & 0.842197 & 9.85908 & 17.894 & 3.83437 & 4.53865 & 1.72227 & 0.64209 & 0.0875914 & $\\dots$ \\\\\n",
       "\t6 & p06 & 8.77093 & 2.03937 & 0.972146 & 3.29669 & 7.25433 & 13.6609 & 18.6454 & 43.6837 & $\\dots$ \\\\\n",
       "\t7 & p07 & 46.6538 & 12.5007 & 0.864349 & 22.902 & 7.68058 & 25.7318 & 6.73628 & 7.6035 & $\\dots$ \\\\\n",
       "\t8 & p08 & 2.18051 & 9.22099 & 0.7293 & 7.65571 & 0.789609 & 2.1631 & 0.567869 & 0.118241 & $\\dots$ \\\\\n",
       "\t9 & p09 & 1.02118 & 0.757446 & 1.20185 & 0.650041 & 2.50188 & 1.16106 & 0.431644 & 0.319201 & $\\dots$ \\\\\n",
       "\t10 & p10 & 1.27196 & 5.37891 & 0.425425 & 4.46583 & 0.460606 & 1.26181 & 0.331257 & 0.068974 & $\\dots$ \\\\\n",
       "\t11 & p11 & 13.6326 & 3.65281 & 0.252569 & 6.69215 & 2.24432 & 7.51904 & 1.96839 & 2.2218 & $\\dots$ \\\\\n",
       "\t12 & p12 & 6.82386 & 25.041 & 13.6541 & 18.3444 & 12.4145 & 19.116 & 26.1645 & 11.308 & $\\dots$ \\\\\n",
       "\t13 & p13 & 4.22053 & 2.71657 & 29.7166 & 2.05709 & 51.949 & 13.5509 & 26.2654 & 40.316 & $\\dots$ \\\\\n",
       "\t14 & p14 & 2.17296 & 7.97396 & 4.34794 & 5.84151 & 3.95322 & 6.08723 & 8.33171 & 3.60088 & $\\dots$ \\\\\n",
       "\t15 & p15 & 6.9001 & 25.3208 & 13.8066 & 18.5493 & 12.5532 & 19.3296 & 26.4568 & 11.4344 & $\\dots$ \\\\\n",
       "\\end{tabular}\n"
      ],
      "text/plain": [
       "15×11 DataFrame. Omitted printing of 4 columns\n",
       "│ Row │ pid │ 101      │ 102      │ 103      │ 201      │ 202      │ 301     │\n",
       "│     │ \u001b[90mAny\u001b[39m │ \u001b[90mAny\u001b[39m      │ \u001b[90mAny\u001b[39m      │ \u001b[90mAny\u001b[39m      │ \u001b[90mAny\u001b[39m      │ \u001b[90mAny\u001b[39m      │ \u001b[90mAny\u001b[39m     │\n",
       "├─────┼─────┼──────────┼──────────┼──────────┼──────────┼──────────┼─────────┤\n",
       "│ 1   │ p01 │ 7.27072  │ 1.94817  │ 0.134704 │ 3.56915  │ 1.19697  │ 4.01015 │\n",
       "│ 2   │ p02 │ 3.01165  │ 11.0516  │ 6.02609  │ 8.09612  │ 5.47902  │ 8.43669 │\n",
       "│ 3   │ p03 │ 4.85058  │ 3.59787  │ 5.70877  │ 3.08769  │ 11.8839  │ 5.51502 │\n",
       "│ 4   │ p04 │ 2.03528  │ 1.31002  │ 14.3303  │ 0.991996 │ 25.0515  │ 6.53471 │\n",
       "│ 5   │ p05 │ 0.842197 │ 9.85908  │ 17.894   │ 3.83437  │ 4.53865  │ 1.72227 │\n",
       "│ 6   │ p06 │ 8.77093  │ 2.03937  │ 0.972146 │ 3.29669  │ 7.25433  │ 13.6609 │\n",
       "│ 7   │ p07 │ 46.6538  │ 12.5007  │ 0.864349 │ 22.902   │ 7.68058  │ 25.7318 │\n",
       "│ 8   │ p08 │ 2.18051  │ 9.22099  │ 0.7293   │ 7.65571  │ 0.789609 │ 2.1631  │\n",
       "│ 9   │ p09 │ 1.02118  │ 0.757446 │ 1.20185  │ 0.650041 │ 2.50188  │ 1.16106 │\n",
       "│ 10  │ p10 │ 1.27196  │ 5.37891  │ 0.425425 │ 4.46583  │ 0.460606 │ 1.26181 │\n",
       "│ 11  │ p11 │ 13.6326  │ 3.65281  │ 0.252569 │ 6.69215  │ 2.24432  │ 7.51904 │\n",
       "│ 12  │ p12 │ 6.82386  │ 25.041   │ 13.6541  │ 18.3444  │ 12.4145  │ 19.116  │\n",
       "│ 13  │ p13 │ 4.22053  │ 2.71657  │ 29.7166  │ 2.05709  │ 51.949   │ 13.5509 │\n",
       "│ 14  │ p14 │ 2.17296  │ 7.97396  │ 4.34794  │ 5.84151  │ 3.95322  │ 6.08723 │\n",
       "│ 15  │ p15 │ 6.9001   │ 25.3208  │ 13.8066  │ 18.5493  │ 12.5532  │ 19.3296 │"
      ]
     },
     "execution_count": 31,
     "metadata": {},
     "output_type": "execute_result"
    }
   ],
   "source": [
    "syp = DataFrame(hcat(serial, (phat * N)))\n",
    "rn = collect(geo_lookup.bg)\n",
    "rn = append!([\"pid\"], rn)\n",
    "rename!(syp, rn)"
   ]
  },
  {
   "cell_type": "markdown",
   "metadata": {},
   "source": [
    "So, for example, we estimate roughly 25 people matching record `p04` in block group `202`:"
   ]
  },
  {
   "cell_type": "code",
   "execution_count": 32,
   "metadata": {},
   "outputs": [
    {
     "data": {
      "text/plain": [
       "1-element Array{Any,1}:\n",
       " 25.051541259095384"
      ]
     },
     "execution_count": 32,
     "metadata": {},
     "output_type": "execute_result"
    }
   ],
   "source": [
    "syp[syp.pid .== \"p04\", \"202\"]"
   ]
  },
  {
   "cell_type": "markdown",
   "metadata": {},
   "source": [
    "### Uncertainty"
   ]
  },
  {
   "cell_type": "markdown",
   "metadata": {},
   "source": [
    "##### Compute the 95% Confidence Intervals on the Synthetic Population Estimates"
   ]
  },
  {
   "cell_type": "code",
   "execution_count": 33,
   "metadata": {},
   "outputs": [],
   "source": [
    "# recompute the P-MEDM allocation as a vector\n",
    "p = compute_allocation(q, X, λ);"
   ]
  },
  {
   "cell_type": "markdown",
   "metadata": {},
   "source": [
    "The Inverse Hessian of the solution is the variance-covariance matrix of the coefficients $\\lambda$, see https://www.rpubs.com/nnnagle/PMEDM_2."
   ]
  },
  {
   "cell_type": "code",
   "execution_count": 34,
   "metadata": {},
   "outputs": [],
   "source": [
    "## compute Inverse Hessian\n",
    "H = h!(Array{Float64}(undef, length(λ), length(λ)), λ);\n",
    "covλ = inv(H);"
   ]
  },
  {
   "cell_type": "code",
   "execution_count": 35,
   "metadata": {},
   "outputs": [],
   "source": [
    "## simulate λ\n",
    "Random.seed!(808)\n",
    "nsim = 100\n",
    "simλ = []\n",
    "\n",
    "mvn = MvNormal(λ, Matrix(Hermitian(covλ/N)))\n",
    "\n",
    "simλ = rand(mvn, nsim);"
   ]
  },
  {
   "cell_type": "code",
   "execution_count": 36,
   "metadata": {},
   "outputs": [],
   "source": [
    "## simulate p\n",
    "psim = []\n",
    "\n",
    "for s in 1:nsim\n",
    "    ps = compute_allocation(q, X, simλ[:,s])\n",
    "    ps = ps * N\n",
    "    append!(psim, ps)\n",
    "end\n",
    "\n",
    "psim = reshape(psim, :, nsim);"
   ]
  },
  {
   "cell_type": "code",
   "execution_count": 37,
   "metadata": {},
   "outputs": [],
   "source": [
    "# 95% confidence interval\n",
    "ci = [quantile(psim[i,:], (0.025, 0.975)) for i in 1:size(psim)[1]]\n",
    "ci = DataFrame(ci)\n",
    "rename!(ci, [\"lower\", \"upper\"]);"
   ]
  },
  {
   "cell_type": "code",
   "execution_count": 38,
   "metadata": {},
   "outputs": [],
   "source": [
    "# melt the synthetic pop ests (wide to long format)\n",
    "# 2nd arg = melt columns, 3rd arg = id columns\n",
    "sypm = stack(syp, names(syp)[2:size(syp)[2]], :pid);\n",
    "rename!(sypm, [\"pid\", \"geoid\", \"est\"]);"
   ]
  },
  {
   "cell_type": "code",
   "execution_count": 39,
   "metadata": {},
   "outputs": [],
   "source": [
    "# ensure order matches conf ints\n",
    "sort!(sypm, [:pid]);"
   ]
  },
  {
   "cell_type": "code",
   "execution_count": 40,
   "metadata": {},
   "outputs": [],
   "source": [
    "## append the conf ints\n",
    "res_ci = hcat(sypm, ci);"
   ]
  },
  {
   "cell_type": "code",
   "execution_count": 41,
   "metadata": {},
   "outputs": [
    {
     "data": {
      "text/html": [
       "<table class=\"data-frame\"><thead><tr><th></th><th>pid</th><th>geoid</th><th>est</th><th>lower</th><th>upper</th></tr><tr><th></th><th>Any</th><th>Cat…</th><th>Any</th><th>Float64</th><th>Float64</th></tr></thead><tbody><p>5 rows × 5 columns</p><tr><th>1</th><td>p01</td><td>101</td><td>7.27072</td><td>5.64692</td><td>8.92343</td></tr><tr><th>2</th><td>p01</td><td>102</td><td>1.94817</td><td>1.33457</td><td>2.81654</td></tr><tr><th>3</th><td>p01</td><td>103</td><td>0.134704</td><td>0.0447898</td><td>0.335708</td></tr><tr><th>4</th><td>p01</td><td>201</td><td>3.56915</td><td>2.56111</td><td>4.76909</td></tr><tr><th>5</th><td>p01</td><td>202</td><td>1.19697</td><td>0.791118</td><td>1.67616</td></tr></tbody></table>"
      ],
      "text/latex": [
       "\\begin{tabular}{r|ccccc}\n",
       "\t& pid & geoid & est & lower & upper\\\\\n",
       "\t\\hline\n",
       "\t& Any & Cat… & Any & Float64 & Float64\\\\\n",
       "\t\\hline\n",
       "\t1 & p01 & 101 & 7.27072 & 5.64692 & 8.92343 \\\\\n",
       "\t2 & p01 & 102 & 1.94817 & 1.33457 & 2.81654 \\\\\n",
       "\t3 & p01 & 103 & 0.134704 & 0.0447898 & 0.335708 \\\\\n",
       "\t4 & p01 & 201 & 3.56915 & 2.56111 & 4.76909 \\\\\n",
       "\t5 & p01 & 202 & 1.19697 & 0.791118 & 1.67616 \\\\\n",
       "\\end{tabular}\n"
      ],
      "text/plain": [
       "5×5 DataFrame\n",
       "│ Row │ pid │ geoid │ est      │ lower     │ upper    │\n",
       "│     │ \u001b[90mAny\u001b[39m │ \u001b[90mCat…\u001b[39m  │ \u001b[90mAny\u001b[39m      │ \u001b[90mFloat64\u001b[39m   │ \u001b[90mFloat64\u001b[39m  │\n",
       "├─────┼─────┼───────┼──────────┼───────────┼──────────┤\n",
       "│ 1   │ p01 │ 101   │ 7.27072  │ 5.64692   │ 8.92343  │\n",
       "│ 2   │ p01 │ 102   │ 1.94817  │ 1.33457   │ 2.81654  │\n",
       "│ 3   │ p01 │ 103   │ 0.134704 │ 0.0447898 │ 0.335708 │\n",
       "│ 4   │ p01 │ 201   │ 3.56915  │ 2.56111   │ 4.76909  │\n",
       "│ 5   │ p01 │ 202   │ 1.19697  │ 0.791118  │ 1.67616  │"
      ]
     },
     "execution_count": 41,
     "metadata": {},
     "output_type": "execute_result"
    }
   ],
   "source": [
    "first(res_ci, 5)"
   ]
  },
  {
   "cell_type": "markdown",
   "metadata": {},
   "source": [
    "Returning to the example above, our estimate of PUMS record `p04` in unit `202` is roughly 25 people, but it could be as low as ~20 people (2.5% bound) or as high as ~30 people (97.5% bound):"
   ]
  },
  {
   "cell_type": "code",
   "execution_count": 42,
   "metadata": {},
   "outputs": [
    {
     "data": {
      "text/html": [
       "<table class=\"data-frame\"><thead><tr><th></th><th>pid</th><th>geoid</th><th>est</th><th>lower</th><th>upper</th></tr><tr><th></th><th>Any</th><th>Cat…</th><th>Any</th><th>Float64</th><th>Float64</th></tr></thead><tbody><p>1 rows × 5 columns</p><tr><th>1</th><td>p04</td><td>202</td><td>25.0515</td><td>20.0526</td><td>30.3277</td></tr></tbody></table>"
      ],
      "text/latex": [
       "\\begin{tabular}{r|ccccc}\n",
       "\t& pid & geoid & est & lower & upper\\\\\n",
       "\t\\hline\n",
       "\t& Any & Cat… & Any & Float64 & Float64\\\\\n",
       "\t\\hline\n",
       "\t1 & p04 & 202 & 25.0515 & 20.0526 & 30.3277 \\\\\n",
       "\\end{tabular}\n"
      ],
      "text/plain": [
       "1×5 DataFrame\n",
       "│ Row │ pid │ geoid │ est     │ lower   │ upper   │\n",
       "│     │ \u001b[90mAny\u001b[39m │ \u001b[90mCat…\u001b[39m  │ \u001b[90mAny\u001b[39m     │ \u001b[90mFloat64\u001b[39m │ \u001b[90mFloat64\u001b[39m │\n",
       "├─────┼─────┼───────┼─────────┼─────────┼─────────┤\n",
       "│ 1   │ p04 │ 202   │ 25.0515 │ 20.0526 │ 30.3277 │"
      ]
     },
     "execution_count": 42,
     "metadata": {},
     "output_type": "execute_result"
    }
   ],
   "source": [
    "res_ci[(res_ci.geoid .== \"202\") .& (res_ci.pid .== \"p04\"),:]"
   ]
  },
  {
   "cell_type": "markdown",
   "metadata": {},
   "source": [
    "### Reliability"
   ]
  },
  {
   "cell_type": "code",
   "execution_count": 43,
   "metadata": {},
   "outputs": [],
   "source": [
    "# Monte Carlo error\n",
    "mce = [std(psim[i,:]) for i in 1:size(psim)[1]];"
   ]
  },
  {
   "cell_type": "code",
   "execution_count": 44,
   "metadata": {},
   "outputs": [],
   "source": [
    "mcv = mce ./ (p * N);"
   ]
  },
  {
   "cell_type": "code",
   "execution_count": 45,
   "metadata": {},
   "outputs": [],
   "source": [
    "## append the CVs\n",
    "res_cv = hcat(sypm, mcv);"
   ]
  },
  {
   "cell_type": "markdown",
   "metadata": {},
   "source": [
    "An inverse relationship is visible between uncertainty and estimate size, as demonstrated for record `p04`:"
   ]
  },
  {
   "cell_type": "code",
   "execution_count": 46,
   "metadata": {},
   "outputs": [
    {
     "data": {
      "text/html": [
       "<table class=\"data-frame\"><thead><tr><th></th><th>pid</th><th>geoid</th><th>est</th><th>x1</th></tr><tr><th></th><th>Any</th><th>Cat…</th><th>Any</th><th>Float64</th></tr></thead><tbody><p>10 rows × 4 columns</p><tr><th>1</th><td>p04</td><td>101</td><td>2.03528</td><td>0.3149</td></tr><tr><th>2</th><td>p04</td><td>102</td><td>1.31002</td><td>0.316657</td></tr><tr><th>3</th><td>p04</td><td>103</td><td>14.3303</td><td>0.148084</td></tr><tr><th>4</th><td>p04</td><td>201</td><td>0.991996</td><td>0.386789</td></tr><tr><th>5</th><td>p04</td><td>202</td><td>25.0515</td><td>0.111053</td></tr><tr><th>6</th><td>p04</td><td>301</td><td>6.53471</td><td>0.195384</td></tr><tr><th>7</th><td>p04</td><td>302</td><td>12.6661</td><td>0.166344</td></tr><tr><th>8</th><td>p04</td><td>303</td><td>19.4417</td><td>0.121042</td></tr><tr><th>9</th><td>p04</td><td>304</td><td>2.67728</td><td>0.244295</td></tr><tr><th>10</th><td>p04</td><td>305</td><td>12.7737</td><td>0.153276</td></tr></tbody></table>"
      ],
      "text/latex": [
       "\\begin{tabular}{r|cccc}\n",
       "\t& pid & geoid & est & x1\\\\\n",
       "\t\\hline\n",
       "\t& Any & Cat… & Any & Float64\\\\\n",
       "\t\\hline\n",
       "\t1 & p04 & 101 & 2.03528 & 0.3149 \\\\\n",
       "\t2 & p04 & 102 & 1.31002 & 0.316657 \\\\\n",
       "\t3 & p04 & 103 & 14.3303 & 0.148084 \\\\\n",
       "\t4 & p04 & 201 & 0.991996 & 0.386789 \\\\\n",
       "\t5 & p04 & 202 & 25.0515 & 0.111053 \\\\\n",
       "\t6 & p04 & 301 & 6.53471 & 0.195384 \\\\\n",
       "\t7 & p04 & 302 & 12.6661 & 0.166344 \\\\\n",
       "\t8 & p04 & 303 & 19.4417 & 0.121042 \\\\\n",
       "\t9 & p04 & 304 & 2.67728 & 0.244295 \\\\\n",
       "\t10 & p04 & 305 & 12.7737 & 0.153276 \\\\\n",
       "\\end{tabular}\n"
      ],
      "text/plain": [
       "10×4 DataFrame\n",
       "│ Row │ pid │ geoid │ est      │ x1       │\n",
       "│     │ \u001b[90mAny\u001b[39m │ \u001b[90mCat…\u001b[39m  │ \u001b[90mAny\u001b[39m      │ \u001b[90mFloat64\u001b[39m  │\n",
       "├─────┼─────┼───────┼──────────┼──────────┤\n",
       "│ 1   │ p04 │ 101   │ 2.03528  │ 0.3149   │\n",
       "│ 2   │ p04 │ 102   │ 1.31002  │ 0.316657 │\n",
       "│ 3   │ p04 │ 103   │ 14.3303  │ 0.148084 │\n",
       "│ 4   │ p04 │ 201   │ 0.991996 │ 0.386789 │\n",
       "│ 5   │ p04 │ 202   │ 25.0515  │ 0.111053 │\n",
       "│ 6   │ p04 │ 301   │ 6.53471  │ 0.195384 │\n",
       "│ 7   │ p04 │ 302   │ 12.6661  │ 0.166344 │\n",
       "│ 8   │ p04 │ 303   │ 19.4417  │ 0.121042 │\n",
       "│ 9   │ p04 │ 304   │ 2.67728  │ 0.244295 │\n",
       "│ 10  │ p04 │ 305   │ 12.7737  │ 0.153276 │"
      ]
     },
     "execution_count": 46,
     "metadata": {},
     "output_type": "execute_result"
    }
   ],
   "source": [
    "res_cv[res_cv.pid .== \"p04\",:]"
   ]
  },
  {
   "cell_type": "markdown",
   "metadata": {},
   "source": [
    "We can also compare the reliability of estimates among PUMS records. For example, larger estimates for record `p07` are somewhat less reliable than those for `p04` (i.e., block group `301`):"
   ]
  },
  {
   "cell_type": "code",
   "execution_count": 47,
   "metadata": {},
   "outputs": [
    {
     "data": {
      "text/html": [
       "<table class=\"data-frame\"><thead><tr><th></th><th>pid</th><th>geoid</th><th>est</th><th>x1</th></tr><tr><th></th><th>Any</th><th>Cat…</th><th>Any</th><th>Float64</th></tr></thead><tbody><p>10 rows × 4 columns</p><tr><th>1</th><td>p07</td><td>101</td><td>46.6538</td><td>0.119392</td></tr><tr><th>2</th><td>p07</td><td>102</td><td>12.5007</td><td>0.200368</td></tr><tr><th>3</th><td>p07</td><td>103</td><td>0.864349</td><td>0.535318</td></tr><tr><th>4</th><td>p07</td><td>201</td><td>22.902</td><td>0.171117</td></tr><tr><th>5</th><td>p07</td><td>202</td><td>7.68058</td><td>0.223842</td></tr><tr><th>6</th><td>p07</td><td>301</td><td>25.7318</td><td>0.141926</td></tr><tr><th>7</th><td>p07</td><td>302</td><td>6.73628</td><td>0.272887</td></tr><tr><th>8</th><td>p07</td><td>303</td><td>7.6035</td><td>0.280241</td></tr><tr><th>9</th><td>p07</td><td>304</td><td>30.6084</td><td>0.133215</td></tr><tr><th>10</th><td>p07</td><td>305</td><td>2.0486</td><td>0.421918</td></tr></tbody></table>"
      ],
      "text/latex": [
       "\\begin{tabular}{r|cccc}\n",
       "\t& pid & geoid & est & x1\\\\\n",
       "\t\\hline\n",
       "\t& Any & Cat… & Any & Float64\\\\\n",
       "\t\\hline\n",
       "\t1 & p07 & 101 & 46.6538 & 0.119392 \\\\\n",
       "\t2 & p07 & 102 & 12.5007 & 0.200368 \\\\\n",
       "\t3 & p07 & 103 & 0.864349 & 0.535318 \\\\\n",
       "\t4 & p07 & 201 & 22.902 & 0.171117 \\\\\n",
       "\t5 & p07 & 202 & 7.68058 & 0.223842 \\\\\n",
       "\t6 & p07 & 301 & 25.7318 & 0.141926 \\\\\n",
       "\t7 & p07 & 302 & 6.73628 & 0.272887 \\\\\n",
       "\t8 & p07 & 303 & 7.6035 & 0.280241 \\\\\n",
       "\t9 & p07 & 304 & 30.6084 & 0.133215 \\\\\n",
       "\t10 & p07 & 305 & 2.0486 & 0.421918 \\\\\n",
       "\\end{tabular}\n"
      ],
      "text/plain": [
       "10×4 DataFrame\n",
       "│ Row │ pid │ geoid │ est      │ x1       │\n",
       "│     │ \u001b[90mAny\u001b[39m │ \u001b[90mCat…\u001b[39m  │ \u001b[90mAny\u001b[39m      │ \u001b[90mFloat64\u001b[39m  │\n",
       "├─────┼─────┼───────┼──────────┼──────────┤\n",
       "│ 1   │ p07 │ 101   │ 46.6538  │ 0.119392 │\n",
       "│ 2   │ p07 │ 102   │ 12.5007  │ 0.200368 │\n",
       "│ 3   │ p07 │ 103   │ 0.864349 │ 0.535318 │\n",
       "│ 4   │ p07 │ 201   │ 22.902   │ 0.171117 │\n",
       "│ 5   │ p07 │ 202   │ 7.68058  │ 0.223842 │\n",
       "│ 6   │ p07 │ 301   │ 25.7318  │ 0.141926 │\n",
       "│ 7   │ p07 │ 302   │ 6.73628  │ 0.272887 │\n",
       "│ 8   │ p07 │ 303   │ 7.6035   │ 0.280241 │\n",
       "│ 9   │ p07 │ 304   │ 30.6084  │ 0.133215 │\n",
       "│ 10  │ p07 │ 305   │ 2.0486   │ 0.421918 │"
      ]
     },
     "execution_count": 47,
     "metadata": {},
     "output_type": "execute_result"
    }
   ],
   "source": [
    "res_cv[res_cv.pid .== \"p07\",:]"
   ]
  }
 ],
 "metadata": {
  "kernelspec": {
   "display_name": "Julia 1.4.1",
   "language": "julia",
   "name": "julia-1.4"
  },
  "language_info": {
   "file_extension": ".jl",
   "mimetype": "application/julia",
   "name": "julia",
   "version": "1.4.1"
  }
 },
 "nbformat": 4,
 "nbformat_minor": 4
}
